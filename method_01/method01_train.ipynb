{
 "cells": [
  {
   "cell_type": "markdown",
   "id": "a6339600",
   "metadata": {},
   "source": [
    "# CP3403 Data Mining\n",
    "## Report: Credit Card Fraud\n",
    "\n",
    "### Group: Matthew Marsh, Dannielle Jones and Callum Gracie"
   ]
  },
  {
   "cell_type": "markdown",
   "id": "ee4e07d2",
   "metadata": {},
   "source": [
    "This data mining explores: If there is a relationship between the geographical location of the merchant to where credit card fraud occurs?"
   ]
  },
  {
   "cell_type": "markdown",
   "id": "d5dafdd1",
   "metadata": {},
   "source": [
    "# Import Packages and Get Data"
   ]
  },
  {
   "cell_type": "code",
   "execution_count": null,
   "id": "28d346ac",
   "metadata": {},
   "outputs": [],
   "source": [
    "import pandas as pd\n",
    "import numpy as np\n",
    "#import seaborn as sns\n",
    "import matplotlib.pyplot as plt\n",
    "#from datetime import datetime, date\n",
    "from sklearn.cluster import DBSCAN"
   ]
  },
  {
   "cell_type": "code",
   "execution_count": null,
   "id": "ce23ddc8",
   "metadata": {},
   "outputs": [],
   "source": [
    "data = pd.read_csv('data/fraudTrain.csv')  # Read\n",
    "#pd.set_option('display.float_format', lambda x:'%f'%x)  # Format"
   ]
  },
  {
   "cell_type": "code",
   "execution_count": null,
   "id": "bc6ac368",
   "metadata": {},
   "outputs": [],
   "source": [
    "#print('Number of Records: {}'.format(len(data)))\n",
    "print('Dataset rows: {} columns: {}'.format(data.shape[0], data.shape[1]))\n",
    "data.head()"
   ]
  },
  {
   "cell_type": "markdown",
   "id": "b5d8f49c",
   "metadata": {},
   "source": [
    "# Pre-Processing: NaN Data and Missing Data"
   ]
  },
  {
   "cell_type": "code",
   "execution_count": null,
   "id": "8d292f63",
   "metadata": {},
   "outputs": [],
   "source": [
    "# Check dataset for missing or NaN values\n",
    "print('Dataset rows: {} columns: {}'.format(data.shape[0], data.shape[1]))\n",
    "missing_values_count = data.isna().sum()\n",
    "print(missing_values_count)"
   ]
  },
  {
   "cell_type": "markdown",
   "id": "1ad2c89d",
   "metadata": {},
   "source": [
    "# Pre-Processing: Convert and Format Data"
   ]
  },
  {
   "cell_type": "code",
   "execution_count": null,
   "id": "73e6f9c3",
   "metadata": {},
   "outputs": [],
   "source": [
    "# View the unnamed column, then get and rename\n",
    "print(data.iloc[:,0])\n",
    "data = data.rename(columns={data.columns[0]: \"column_id\"})\n",
    "data.set_index('column_id', inplace=True)\n",
    "data.head()"
   ]
  },
  {
   "cell_type": "code",
   "execution_count": null,
   "id": "9b4a23f8",
   "metadata": {},
   "outputs": [],
   "source": [
    "# Convert to numeric\n",
    "data['amt'] = pd.to_numeric(data['amt'], errors='coerce')\n",
    "data['zip'] = pd.to_numeric(data['zip'], errors='coerce')\n",
    "data['lat'] = pd.to_numeric(data['lat'], errors='coerce')\n",
    "data['long'] = pd.to_numeric(data['long'], errors='coerce')\n",
    "data['city_pop'] = pd.to_numeric(data['city_pop'], errors='coerce')\n",
    "data['merch_lat'] = pd.to_numeric(data['merch_long'], errors='coerce')\n",
    "data['is_fraud'] = pd.to_numeric(data['is_fraud'], errors='coerce')"
   ]
  },
  {
   "cell_type": "code",
   "execution_count": null,
   "id": "988aead7",
   "metadata": {},
   "outputs": [],
   "source": [
    "# Processing date of birth\n",
    "data['dob'] = pd.to_datetime(data['dob'])  # convert to datetime object\n",
    "data['year_of_birth'] = data['dob'].dt.year  # extract year\n",
    "data['month_of_birth'] = data['dob'].dt.month  # extract month\n",
    "data['day_of_birth'] = data['dob'].dt.day  # extract day\n",
    "data.head()"
   ]
  },
  {
   "cell_type": "code",
   "execution_count": null,
   "id": "56375b38",
   "metadata": {},
   "outputs": [],
   "source": [
    "# Processing transaction date and time\n",
    "data['trans_date_trans_time'] = pd.to_datetime(data['trans_date_trans_time'])  # convert to datetime object\n",
    "data['year_of_trans'] = data['trans_date_trans_time'].dt.year  # extract year\n",
    "data['month_of_trans'] = data['trans_date_trans_time'].dt.month  # extract month\n",
    "data['day_of_trans'] = data['trans_date_trans_time'].dt.day  # extract day\n",
    "data['time_of_trans'] = data['trans_date_trans_time'].dt.time  # extract time\n",
    "data.head()"
   ]
  },
  {
   "cell_type": "code",
   "execution_count": null,
   "id": "2f1e316e",
   "metadata": {},
   "outputs": [],
   "source": [
    "# Processing Gender into binary\n",
    "gender_count = data['gender'].value_counts()\n",
    "data['is_female'] = data['gender'].apply(lambda x: 1 if x.upper() == \"F\" else 0)\n",
    "is_female_count = data['is_female'].value_counts()\n",
    "print(\"Gender Count: \\n{}\".format(gender_count))\n",
    "print(\"is_female Count: \\n{}\".format(is_female_count))\n",
    "data.head()"
   ]
  },
  {
   "cell_type": "markdown",
   "id": "e6b3e690",
   "metadata": {},
   "source": [
    "# Pre-Processing: Create Data Sub-Set"
   ]
  },
  {
   "cell_type": "code",
   "execution_count": null,
   "id": "e9c14332",
   "metadata": {},
   "outputs": [],
   "source": [
    "# Create a sub-set of merchant longitude and latitude\n",
    "sub1 = data[['merch_lat', 'merch_long', 'is_fraud']]\n",
    "print('Subset rows: {} columns: {}'.format(sub1.shape[0], sub1.shape[1]))\n",
    "sub1.head()"
   ]
  },
  {
   "cell_type": "code",
   "execution_count": null,
   "id": "b30593fb",
   "metadata": {},
   "outputs": [],
   "source": [
    "# Check how many cases are fraud\n",
    "is_fraud_count = sub1[(sub1['is_fraud'] == 1)]\n",
    "print('Fraud count: {}'.format(len(is_fraud_count)))\n",
    "is_fraud_count.head()"
   ]
  },
  {
   "cell_type": "code",
   "execution_count": null,
   "id": "96a54bd4",
   "metadata": {},
   "outputs": [],
   "source": [
    "sub2 = sub1.copy()"
   ]
  },
  {
   "cell_type": "markdown",
   "id": "ad23e6c4",
   "metadata": {},
   "source": [
    "# Data Mining Technique/Method:\n",
    "## Visualisation: Pre-Processing"
   ]
  },
  {
   "cell_type": "code",
   "execution_count": null,
   "id": "bffe1def",
   "metadata": {},
   "outputs": [],
   "source": [
    "# Current data subset\n",
    "sub2.head()"
   ]
  },
  {
   "cell_type": "code",
   "execution_count": null,
   "outputs": [],
   "source": [
    "# Get only longitude and latitude\n",
    "sub2 = data[['merch_lat', 'merch_long']]\n",
    "sub2.head()"
   ],
   "metadata": {
    "collapsed": false
   }
  },
  {
   "cell_type": "code",
   "execution_count": null,
   "outputs": [],
   "source": [
    "sub3 = sub2.copy()"
   ],
   "metadata": {
    "collapsed": false
   }
  },
  {
   "cell_type": "markdown",
   "id": "b19b8e12",
   "metadata": {},
   "source": [
    "## Visualisation: Plots/Graphs"
   ]
  },
  {
   "cell_type": "code",
   "execution_count": null,
   "id": "09160d7d",
   "metadata": {},
   "outputs": [],
   "source": [
    "# Visualise spatial data using scatter plot\n",
    "%matplotlib inline\n",
    "\n",
    "plt.title(\"Merchant Longitude and Latitude Scatter Plot\")\n",
    "plt.xlabel(\"Latitude\")\n",
    "plt.ylabel(\"Longitude\")\n",
    "plt.scatter(sub3['merch_lat'], sub3['merch_long'])\n",
    "plt.show()"
   ]
  },
  {
   "cell_type": "markdown",
   "source": [
    "### Conclusions:\n",
    "Overall, there appears to be three clusters and a general linear relationship. The sample size it too large to determine any specific dot patterns."
   ],
   "metadata": {
    "collapsed": false
   }
  },
  {
   "cell_type": "code",
   "execution_count": null,
   "outputs": [],
   "source": [
    "# Get random sub-sample\n",
    "np.random.seed(42)\n",
    "\n",
    "sub_fraction = 0.2\n",
    "random_fraction_sub = sub3.sample(frac=sub_fraction, random_state=42)\n",
    "\n",
    "sub_size = 300\n",
    "random_size_sub = sub3.sample(n=sub_size, random_state=42)\n",
    "\n",
    "print(f\"Current size of data: {len(sub3)} \\n\")\n",
    "print(f\"Random fraction sub-sample: \\n{random_size_sub} Records Count: {len(random_fraction_sub)} \\n\")\n",
    "print(f\"Random size sub-sample: \\n{random_size_sub} Records Count: {len(random_size_sub)}\")"
   ],
   "metadata": {
    "collapsed": false
   }
  },
  {
   "cell_type": "code",
   "execution_count": null,
   "outputs": [],
   "source": [
    "# Visualise random sub-sample spatial data using scatter plot\n",
    "plt.title(f\"Merchant Longitude and Latitude Scatter Plot Random Sample {sub_fraction * 100}%\")\n",
    "plt.xlabel(\"Latitude\")\n",
    "plt.ylabel(\"Longitude\")\n",
    "plt.scatter(random_fraction_sub['merch_lat'], random_fraction_sub['merch_long'])\n",
    "plt.show()\n",
    "\n",
    "# Visualise spatial data using scatter plot\n",
    "plt.title(f\"Merchant Longitude and Latitude Scatter Plot Random Sample Size: {sub_size}\")\n",
    "plt.xlabel(\"Latitude\")\n",
    "plt.ylabel(\"Longitude\")\n",
    "plt.scatter(random_size_sub['merch_lat'], random_size_sub['merch_long'])\n",
    "plt.show()"
   ],
   "metadata": {
    "collapsed": false
   }
  },
  {
   "cell_type": "markdown",
   "source": [
    "### DBScan clustering algorithm"
   ],
   "metadata": {
    "collapsed": false
   }
  },
  {
   "cell_type": "code",
   "execution_count": null,
   "outputs": [],
   "source": [
    "dbscan_data = DBSCAN(eps=15.5, min_samples=5).fit(sub2)\n",
    "core_samples_mask = np.zeros_like(dbscan_data.labels_, dtype=bool)\n",
    "core_samples_mask[dbscan_data.core_sample_indices_] = True\n",
    "labels = pd.DataFrame(dbscan_data.labels_, columns=['Cluster ID'])\n",
    "result = pd.concat((sub3, labels), axis=1)\n",
    "result.plot.scatter('merch_lat', 'merch_long', c='Cluster ID', colormap='jet')"
   ],
   "metadata": {
    "collapsed": false
   }
  },
  {
   "cell_type": "markdown",
   "id": "4a74cd85",
   "metadata": {},
   "source": [
    "## Visualisation: Results and Data"
   ]
  },
  {
   "cell_type": "code",
   "execution_count": null,
   "id": "525c7e02",
   "metadata": {},
   "outputs": [],
   "source": []
  }
 ],
 "metadata": {
  "kernelspec": {
   "display_name": "Python 3 (ipykernel)",
   "language": "python",
   "name": "python3"
  },
  "language_info": {
   "codemirror_mode": {
    "name": "ipython",
    "version": 3
   },
   "file_extension": ".py",
   "mimetype": "text/x-python",
   "name": "python",
   "nbconvert_exporter": "python",
   "pygments_lexer": "ipython3",
   "version": "3.9.16"
  }
 },
 "nbformat": 4,
 "nbformat_minor": 5
}
