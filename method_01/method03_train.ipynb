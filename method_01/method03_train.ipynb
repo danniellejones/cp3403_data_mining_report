{
 "cells": [
  {
   "cell_type": "markdown",
   "id": "a6339600",
   "metadata": {},
   "source": [
    "# CP3403 Data Mining\n",
    "## Report: Credit Card Fraud\n",
    "\n",
    "### Group: Matthew Marsh, Dannielle Jones and Callum Gracie"
   ]
  },
  {
   "cell_type": "markdown",
   "id": "ee4e07d2",
   "metadata": {},
   "source": [
    "This data mining explores: If there is a relationship between the geographical location of the merchant to where credit card fraud occurs?\n",
    "Data selection: Merchant longitude and latitude normalised"
   ]
  },
  {
   "cell_type": "markdown",
   "id": "d5dafdd1",
   "metadata": {},
   "source": [
    "# Import Packages and Get Data"
   ]
  },
  {
   "cell_type": "code",
   "execution_count": 1,
   "id": "28d346ac",
   "metadata": {},
   "outputs": [],
   "source": [
    "import pandas as pd\n",
    "import numpy as np\n",
    "#import seaborn as sns\n",
    "import matplotlib.pyplot as plt\n",
    "#from datetime import datetime, date\n",
    "from sklearn.cluster import AgglomerativeClustering"
   ]
  },
  {
   "cell_type": "code",
   "execution_count": 2,
   "id": "ce23ddc8",
   "metadata": {},
   "outputs": [],
   "source": [
    "data = pd.read_csv('../data/fraudTrain.csv')  # Read\n",
    "#pd.set_option('display.float_format', lambda x:'%f'%x)  # Format"
   ]
  },
  {
   "cell_type": "code",
   "execution_count": 3,
   "id": "bc6ac368",
   "metadata": {},
   "outputs": [
    {
     "name": "stdout",
     "output_type": "stream",
     "text": [
      "Dataset rows: 1296675 columns: 23\n"
     ]
    },
    {
     "data": {
      "text/plain": "   Unnamed: 0 trans_date_trans_time            cc_num  \\\n0           0   2019-01-01 00:00:18  2703186189652095   \n1           1   2019-01-01 00:00:44      630423337322   \n2           2   2019-01-01 00:00:51    38859492057661   \n3           3   2019-01-01 00:01:16  3534093764340240   \n4           4   2019-01-01 00:03:06   375534208663984   \n\n                             merchant       category     amt      first  \\\n0          fraud_Rippin, Kub and Mann       misc_net    4.97   Jennifer   \n1     fraud_Heller, Gutmann and Zieme    grocery_pos  107.23  Stephanie   \n2                fraud_Lind-Buckridge  entertainment  220.11     Edward   \n3  fraud_Kutch, Hermiston and Farrell  gas_transport   45.00     Jeremy   \n4                 fraud_Keeling-Crist       misc_pos   41.96      Tyler   \n\n      last gender                        street  ...      lat      long  \\\n0    Banks      F                561 Perry Cove  ...  36.0788  -81.1781   \n1     Gill      F  43039 Riley Greens Suite 393  ...  48.8878 -118.2105   \n2  Sanchez      M      594 White Dale Suite 530  ...  42.1808 -112.2620   \n3    White      M   9443 Cynthia Court Apt. 038  ...  46.2306 -112.1138   \n4   Garcia      M              408 Bradley Rest  ...  38.4207  -79.4629   \n\n   city_pop                                job         dob  \\\n0      3495          Psychologist, counselling  1988-03-09   \n1       149  Special educational needs teacher  1978-06-21   \n2      4154        Nature conservation officer  1962-01-19   \n3      1939                    Patent attorney  1967-01-12   \n4        99     Dance movement psychotherapist  1986-03-28   \n\n                          trans_num   unix_time  merch_lat  merch_long  \\\n0  0b242abb623afc578575680df30655b9  1325376018  36.011293  -82.048315   \n1  1f76529f8574734946361c461b024d99  1325376044  49.159047 -118.186462   \n2  a1a22d70485983eac12b5b88dad1cf95  1325376051  43.150704 -112.154481   \n3  6b849c168bdad6f867558c3793159a81  1325376076  47.034331 -112.561071   \n4  a41d7549acf90789359a9aa5346dcb46  1325376186  38.674999  -78.632459   \n\n   is_fraud  \n0         0  \n1         0  \n2         0  \n3         0  \n4         0  \n\n[5 rows x 23 columns]",
      "text/html": "<div>\n<style scoped>\n    .dataframe tbody tr th:only-of-type {\n        vertical-align: middle;\n    }\n\n    .dataframe tbody tr th {\n        vertical-align: top;\n    }\n\n    .dataframe thead th {\n        text-align: right;\n    }\n</style>\n<table border=\"1\" class=\"dataframe\">\n  <thead>\n    <tr style=\"text-align: right;\">\n      <th></th>\n      <th>Unnamed: 0</th>\n      <th>trans_date_trans_time</th>\n      <th>cc_num</th>\n      <th>merchant</th>\n      <th>category</th>\n      <th>amt</th>\n      <th>first</th>\n      <th>last</th>\n      <th>gender</th>\n      <th>street</th>\n      <th>...</th>\n      <th>lat</th>\n      <th>long</th>\n      <th>city_pop</th>\n      <th>job</th>\n      <th>dob</th>\n      <th>trans_num</th>\n      <th>unix_time</th>\n      <th>merch_lat</th>\n      <th>merch_long</th>\n      <th>is_fraud</th>\n    </tr>\n  </thead>\n  <tbody>\n    <tr>\n      <th>0</th>\n      <td>0</td>\n      <td>2019-01-01 00:00:18</td>\n      <td>2703186189652095</td>\n      <td>fraud_Rippin, Kub and Mann</td>\n      <td>misc_net</td>\n      <td>4.97</td>\n      <td>Jennifer</td>\n      <td>Banks</td>\n      <td>F</td>\n      <td>561 Perry Cove</td>\n      <td>...</td>\n      <td>36.0788</td>\n      <td>-81.1781</td>\n      <td>3495</td>\n      <td>Psychologist, counselling</td>\n      <td>1988-03-09</td>\n      <td>0b242abb623afc578575680df30655b9</td>\n      <td>1325376018</td>\n      <td>36.011293</td>\n      <td>-82.048315</td>\n      <td>0</td>\n    </tr>\n    <tr>\n      <th>1</th>\n      <td>1</td>\n      <td>2019-01-01 00:00:44</td>\n      <td>630423337322</td>\n      <td>fraud_Heller, Gutmann and Zieme</td>\n      <td>grocery_pos</td>\n      <td>107.23</td>\n      <td>Stephanie</td>\n      <td>Gill</td>\n      <td>F</td>\n      <td>43039 Riley Greens Suite 393</td>\n      <td>...</td>\n      <td>48.8878</td>\n      <td>-118.2105</td>\n      <td>149</td>\n      <td>Special educational needs teacher</td>\n      <td>1978-06-21</td>\n      <td>1f76529f8574734946361c461b024d99</td>\n      <td>1325376044</td>\n      <td>49.159047</td>\n      <td>-118.186462</td>\n      <td>0</td>\n    </tr>\n    <tr>\n      <th>2</th>\n      <td>2</td>\n      <td>2019-01-01 00:00:51</td>\n      <td>38859492057661</td>\n      <td>fraud_Lind-Buckridge</td>\n      <td>entertainment</td>\n      <td>220.11</td>\n      <td>Edward</td>\n      <td>Sanchez</td>\n      <td>M</td>\n      <td>594 White Dale Suite 530</td>\n      <td>...</td>\n      <td>42.1808</td>\n      <td>-112.2620</td>\n      <td>4154</td>\n      <td>Nature conservation officer</td>\n      <td>1962-01-19</td>\n      <td>a1a22d70485983eac12b5b88dad1cf95</td>\n      <td>1325376051</td>\n      <td>43.150704</td>\n      <td>-112.154481</td>\n      <td>0</td>\n    </tr>\n    <tr>\n      <th>3</th>\n      <td>3</td>\n      <td>2019-01-01 00:01:16</td>\n      <td>3534093764340240</td>\n      <td>fraud_Kutch, Hermiston and Farrell</td>\n      <td>gas_transport</td>\n      <td>45.00</td>\n      <td>Jeremy</td>\n      <td>White</td>\n      <td>M</td>\n      <td>9443 Cynthia Court Apt. 038</td>\n      <td>...</td>\n      <td>46.2306</td>\n      <td>-112.1138</td>\n      <td>1939</td>\n      <td>Patent attorney</td>\n      <td>1967-01-12</td>\n      <td>6b849c168bdad6f867558c3793159a81</td>\n      <td>1325376076</td>\n      <td>47.034331</td>\n      <td>-112.561071</td>\n      <td>0</td>\n    </tr>\n    <tr>\n      <th>4</th>\n      <td>4</td>\n      <td>2019-01-01 00:03:06</td>\n      <td>375534208663984</td>\n      <td>fraud_Keeling-Crist</td>\n      <td>misc_pos</td>\n      <td>41.96</td>\n      <td>Tyler</td>\n      <td>Garcia</td>\n      <td>M</td>\n      <td>408 Bradley Rest</td>\n      <td>...</td>\n      <td>38.4207</td>\n      <td>-79.4629</td>\n      <td>99</td>\n      <td>Dance movement psychotherapist</td>\n      <td>1986-03-28</td>\n      <td>a41d7549acf90789359a9aa5346dcb46</td>\n      <td>1325376186</td>\n      <td>38.674999</td>\n      <td>-78.632459</td>\n      <td>0</td>\n    </tr>\n  </tbody>\n</table>\n<p>5 rows × 23 columns</p>\n</div>"
     },
     "execution_count": 3,
     "metadata": {},
     "output_type": "execute_result"
    }
   ],
   "source": [
    "#print('Number of Records: {}'.format(len(data)))\n",
    "print('Dataset rows: {} columns: {}'.format(data.shape[0], data.shape[1]))\n",
    "data.head()"
   ]
  },
  {
   "cell_type": "markdown",
   "id": "b5d8f49c",
   "metadata": {},
   "source": [
    "# Pre-Processing: NaN Data and Missing Data"
   ]
  },
  {
   "cell_type": "code",
   "execution_count": 4,
   "id": "8d292f63",
   "metadata": {},
   "outputs": [
    {
     "name": "stdout",
     "output_type": "stream",
     "text": [
      "Dataset rows: 1296675 columns: 23\n",
      "Unnamed: 0               0\n",
      "trans_date_trans_time    0\n",
      "cc_num                   0\n",
      "merchant                 0\n",
      "category                 0\n",
      "amt                      0\n",
      "first                    0\n",
      "last                     0\n",
      "gender                   0\n",
      "street                   0\n",
      "city                     0\n",
      "state                    0\n",
      "zip                      0\n",
      "lat                      0\n",
      "long                     0\n",
      "city_pop                 0\n",
      "job                      0\n",
      "dob                      0\n",
      "trans_num                0\n",
      "unix_time                0\n",
      "merch_lat                0\n",
      "merch_long               0\n",
      "is_fraud                 0\n",
      "dtype: int64\n"
     ]
    }
   ],
   "source": [
    "# Check dataset for missing or NaN values\n",
    "print('Dataset rows: {} columns: {}'.format(data.shape[0], data.shape[1]))\n",
    "missing_values_count = data.isna().sum()\n",
    "print(missing_values_count)"
   ]
  },
  {
   "cell_type": "markdown",
   "id": "1ad2c89d",
   "metadata": {},
   "source": [
    "# Pre-Processing: Convert and Format Data"
   ]
  },
  {
   "cell_type": "code",
   "execution_count": 5,
   "id": "73e6f9c3",
   "metadata": {},
   "outputs": [
    {
     "name": "stdout",
     "output_type": "stream",
     "text": [
      "0                0\n",
      "1                1\n",
      "2                2\n",
      "3                3\n",
      "4                4\n",
      "            ...   \n",
      "1296670    1296670\n",
      "1296671    1296671\n",
      "1296672    1296672\n",
      "1296673    1296673\n",
      "1296674    1296674\n",
      "Name: Unnamed: 0, Length: 1296675, dtype: int64\n"
     ]
    },
    {
     "data": {
      "text/plain": "          trans_date_trans_time            cc_num  \\\ncolumn_id                                           \n0           2019-01-01 00:00:18  2703186189652095   \n1           2019-01-01 00:00:44      630423337322   \n2           2019-01-01 00:00:51    38859492057661   \n3           2019-01-01 00:01:16  3534093764340240   \n4           2019-01-01 00:03:06   375534208663984   \n\n                                     merchant       category     amt  \\\ncolumn_id                                                              \n0                  fraud_Rippin, Kub and Mann       misc_net    4.97   \n1             fraud_Heller, Gutmann and Zieme    grocery_pos  107.23   \n2                        fraud_Lind-Buckridge  entertainment  220.11   \n3          fraud_Kutch, Hermiston and Farrell  gas_transport   45.00   \n4                         fraud_Keeling-Crist       misc_pos   41.96   \n\n               first     last gender                        street  \\\ncolumn_id                                                            \n0           Jennifer    Banks      F                561 Perry Cove   \n1          Stephanie     Gill      F  43039 Riley Greens Suite 393   \n2             Edward  Sanchez      M      594 White Dale Suite 530   \n3             Jeremy    White      M   9443 Cynthia Court Apt. 038   \n4              Tyler   Garcia      M              408 Bradley Rest   \n\n                     city  ...      lat      long  city_pop  \\\ncolumn_id                  ...                                \n0          Moravian Falls  ...  36.0788  -81.1781      3495   \n1                  Orient  ...  48.8878 -118.2105       149   \n2              Malad City  ...  42.1808 -112.2620      4154   \n3                 Boulder  ...  46.2306 -112.1138      1939   \n4                Doe Hill  ...  38.4207  -79.4629        99   \n\n                                         job         dob  \\\ncolumn_id                                                  \n0                  Psychologist, counselling  1988-03-09   \n1          Special educational needs teacher  1978-06-21   \n2                Nature conservation officer  1962-01-19   \n3                            Patent attorney  1967-01-12   \n4             Dance movement psychotherapist  1986-03-28   \n\n                                  trans_num   unix_time  merch_lat  \\\ncolumn_id                                                            \n0          0b242abb623afc578575680df30655b9  1325376018  36.011293   \n1          1f76529f8574734946361c461b024d99  1325376044  49.159047   \n2          a1a22d70485983eac12b5b88dad1cf95  1325376051  43.150704   \n3          6b849c168bdad6f867558c3793159a81  1325376076  47.034331   \n4          a41d7549acf90789359a9aa5346dcb46  1325376186  38.674999   \n\n           merch_long  is_fraud  \ncolumn_id                        \n0          -82.048315         0  \n1         -118.186462         0  \n2         -112.154481         0  \n3         -112.561071         0  \n4          -78.632459         0  \n\n[5 rows x 22 columns]",
      "text/html": "<div>\n<style scoped>\n    .dataframe tbody tr th:only-of-type {\n        vertical-align: middle;\n    }\n\n    .dataframe tbody tr th {\n        vertical-align: top;\n    }\n\n    .dataframe thead th {\n        text-align: right;\n    }\n</style>\n<table border=\"1\" class=\"dataframe\">\n  <thead>\n    <tr style=\"text-align: right;\">\n      <th></th>\n      <th>trans_date_trans_time</th>\n      <th>cc_num</th>\n      <th>merchant</th>\n      <th>category</th>\n      <th>amt</th>\n      <th>first</th>\n      <th>last</th>\n      <th>gender</th>\n      <th>street</th>\n      <th>city</th>\n      <th>...</th>\n      <th>lat</th>\n      <th>long</th>\n      <th>city_pop</th>\n      <th>job</th>\n      <th>dob</th>\n      <th>trans_num</th>\n      <th>unix_time</th>\n      <th>merch_lat</th>\n      <th>merch_long</th>\n      <th>is_fraud</th>\n    </tr>\n    <tr>\n      <th>column_id</th>\n      <th></th>\n      <th></th>\n      <th></th>\n      <th></th>\n      <th></th>\n      <th></th>\n      <th></th>\n      <th></th>\n      <th></th>\n      <th></th>\n      <th></th>\n      <th></th>\n      <th></th>\n      <th></th>\n      <th></th>\n      <th></th>\n      <th></th>\n      <th></th>\n      <th></th>\n      <th></th>\n      <th></th>\n    </tr>\n  </thead>\n  <tbody>\n    <tr>\n      <th>0</th>\n      <td>2019-01-01 00:00:18</td>\n      <td>2703186189652095</td>\n      <td>fraud_Rippin, Kub and Mann</td>\n      <td>misc_net</td>\n      <td>4.97</td>\n      <td>Jennifer</td>\n      <td>Banks</td>\n      <td>F</td>\n      <td>561 Perry Cove</td>\n      <td>Moravian Falls</td>\n      <td>...</td>\n      <td>36.0788</td>\n      <td>-81.1781</td>\n      <td>3495</td>\n      <td>Psychologist, counselling</td>\n      <td>1988-03-09</td>\n      <td>0b242abb623afc578575680df30655b9</td>\n      <td>1325376018</td>\n      <td>36.011293</td>\n      <td>-82.048315</td>\n      <td>0</td>\n    </tr>\n    <tr>\n      <th>1</th>\n      <td>2019-01-01 00:00:44</td>\n      <td>630423337322</td>\n      <td>fraud_Heller, Gutmann and Zieme</td>\n      <td>grocery_pos</td>\n      <td>107.23</td>\n      <td>Stephanie</td>\n      <td>Gill</td>\n      <td>F</td>\n      <td>43039 Riley Greens Suite 393</td>\n      <td>Orient</td>\n      <td>...</td>\n      <td>48.8878</td>\n      <td>-118.2105</td>\n      <td>149</td>\n      <td>Special educational needs teacher</td>\n      <td>1978-06-21</td>\n      <td>1f76529f8574734946361c461b024d99</td>\n      <td>1325376044</td>\n      <td>49.159047</td>\n      <td>-118.186462</td>\n      <td>0</td>\n    </tr>\n    <tr>\n      <th>2</th>\n      <td>2019-01-01 00:00:51</td>\n      <td>38859492057661</td>\n      <td>fraud_Lind-Buckridge</td>\n      <td>entertainment</td>\n      <td>220.11</td>\n      <td>Edward</td>\n      <td>Sanchez</td>\n      <td>M</td>\n      <td>594 White Dale Suite 530</td>\n      <td>Malad City</td>\n      <td>...</td>\n      <td>42.1808</td>\n      <td>-112.2620</td>\n      <td>4154</td>\n      <td>Nature conservation officer</td>\n      <td>1962-01-19</td>\n      <td>a1a22d70485983eac12b5b88dad1cf95</td>\n      <td>1325376051</td>\n      <td>43.150704</td>\n      <td>-112.154481</td>\n      <td>0</td>\n    </tr>\n    <tr>\n      <th>3</th>\n      <td>2019-01-01 00:01:16</td>\n      <td>3534093764340240</td>\n      <td>fraud_Kutch, Hermiston and Farrell</td>\n      <td>gas_transport</td>\n      <td>45.00</td>\n      <td>Jeremy</td>\n      <td>White</td>\n      <td>M</td>\n      <td>9443 Cynthia Court Apt. 038</td>\n      <td>Boulder</td>\n      <td>...</td>\n      <td>46.2306</td>\n      <td>-112.1138</td>\n      <td>1939</td>\n      <td>Patent attorney</td>\n      <td>1967-01-12</td>\n      <td>6b849c168bdad6f867558c3793159a81</td>\n      <td>1325376076</td>\n      <td>47.034331</td>\n      <td>-112.561071</td>\n      <td>0</td>\n    </tr>\n    <tr>\n      <th>4</th>\n      <td>2019-01-01 00:03:06</td>\n      <td>375534208663984</td>\n      <td>fraud_Keeling-Crist</td>\n      <td>misc_pos</td>\n      <td>41.96</td>\n      <td>Tyler</td>\n      <td>Garcia</td>\n      <td>M</td>\n      <td>408 Bradley Rest</td>\n      <td>Doe Hill</td>\n      <td>...</td>\n      <td>38.4207</td>\n      <td>-79.4629</td>\n      <td>99</td>\n      <td>Dance movement psychotherapist</td>\n      <td>1986-03-28</td>\n      <td>a41d7549acf90789359a9aa5346dcb46</td>\n      <td>1325376186</td>\n      <td>38.674999</td>\n      <td>-78.632459</td>\n      <td>0</td>\n    </tr>\n  </tbody>\n</table>\n<p>5 rows × 22 columns</p>\n</div>"
     },
     "execution_count": 5,
     "metadata": {},
     "output_type": "execute_result"
    }
   ],
   "source": [
    "# View the unnamed column, then get and rename\n",
    "print(data.iloc[:,0])\n",
    "data = data.rename(columns={data.columns[0]: \"column_id\"})\n",
    "data.set_index('column_id', inplace=True)\n",
    "data.head()"
   ]
  },
  {
   "cell_type": "code",
   "execution_count": 6,
   "id": "9b4a23f8",
   "metadata": {},
   "outputs": [],
   "source": [
    "# Convert to numeric\n",
    "data['amt'] = pd.to_numeric(data['amt'], errors='coerce')\n",
    "data['zip'] = pd.to_numeric(data['zip'], errors='coerce')\n",
    "data['lat'] = pd.to_numeric(data['lat'], errors='coerce')\n",
    "data['long'] = pd.to_numeric(data['long'], errors='coerce')\n",
    "data['city_pop'] = pd.to_numeric(data['city_pop'], errors='coerce')\n",
    "data['merch_lat'] = pd.to_numeric(data['merch_long'], errors='coerce')\n",
    "data['is_fraud'] = pd.to_numeric(data['is_fraud'], errors='coerce')"
   ]
  },
  {
   "cell_type": "code",
   "execution_count": 7,
   "id": "988aead7",
   "metadata": {},
   "outputs": [
    {
     "data": {
      "text/plain": "          trans_date_trans_time            cc_num  \\\ncolumn_id                                           \n0           2019-01-01 00:00:18  2703186189652095   \n1           2019-01-01 00:00:44      630423337322   \n2           2019-01-01 00:00:51    38859492057661   \n3           2019-01-01 00:01:16  3534093764340240   \n4           2019-01-01 00:03:06   375534208663984   \n\n                                     merchant       category     amt  \\\ncolumn_id                                                              \n0                  fraud_Rippin, Kub and Mann       misc_net    4.97   \n1             fraud_Heller, Gutmann and Zieme    grocery_pos  107.23   \n2                        fraud_Lind-Buckridge  entertainment  220.11   \n3          fraud_Kutch, Hermiston and Farrell  gas_transport   45.00   \n4                         fraud_Keeling-Crist       misc_pos   41.96   \n\n               first     last gender                        street  \\\ncolumn_id                                                            \n0           Jennifer    Banks      F                561 Perry Cove   \n1          Stephanie     Gill      F  43039 Riley Greens Suite 393   \n2             Edward  Sanchez      M      594 White Dale Suite 530   \n3             Jeremy    White      M   9443 Cynthia Court Apt. 038   \n4              Tyler   Garcia      M              408 Bradley Rest   \n\n                     city  ...                                job        dob  \\\ncolumn_id                  ...                                                 \n0          Moravian Falls  ...          Psychologist, counselling 1988-03-09   \n1                  Orient  ...  Special educational needs teacher 1978-06-21   \n2              Malad City  ...        Nature conservation officer 1962-01-19   \n3                 Boulder  ...                    Patent attorney 1967-01-12   \n4                Doe Hill  ...     Dance movement psychotherapist 1986-03-28   \n\n                                  trans_num   unix_time   merch_lat  \\\ncolumn_id                                                             \n0          0b242abb623afc578575680df30655b9  1325376018  -82.048315   \n1          1f76529f8574734946361c461b024d99  1325376044 -118.186462   \n2          a1a22d70485983eac12b5b88dad1cf95  1325376051 -112.154481   \n3          6b849c168bdad6f867558c3793159a81  1325376076 -112.561071   \n4          a41d7549acf90789359a9aa5346dcb46  1325376186  -78.632459   \n\n           merch_long is_fraud year_of_birth  month_of_birth  day_of_birth  \ncolumn_id                                                                   \n0          -82.048315        0          1988               3             9  \n1         -118.186462        0          1978               6            21  \n2         -112.154481        0          1962               1            19  \n3         -112.561071        0          1967               1            12  \n4          -78.632459        0          1986               3            28  \n\n[5 rows x 25 columns]",
      "text/html": "<div>\n<style scoped>\n    .dataframe tbody tr th:only-of-type {\n        vertical-align: middle;\n    }\n\n    .dataframe tbody tr th {\n        vertical-align: top;\n    }\n\n    .dataframe thead th {\n        text-align: right;\n    }\n</style>\n<table border=\"1\" class=\"dataframe\">\n  <thead>\n    <tr style=\"text-align: right;\">\n      <th></th>\n      <th>trans_date_trans_time</th>\n      <th>cc_num</th>\n      <th>merchant</th>\n      <th>category</th>\n      <th>amt</th>\n      <th>first</th>\n      <th>last</th>\n      <th>gender</th>\n      <th>street</th>\n      <th>city</th>\n      <th>...</th>\n      <th>job</th>\n      <th>dob</th>\n      <th>trans_num</th>\n      <th>unix_time</th>\n      <th>merch_lat</th>\n      <th>merch_long</th>\n      <th>is_fraud</th>\n      <th>year_of_birth</th>\n      <th>month_of_birth</th>\n      <th>day_of_birth</th>\n    </tr>\n    <tr>\n      <th>column_id</th>\n      <th></th>\n      <th></th>\n      <th></th>\n      <th></th>\n      <th></th>\n      <th></th>\n      <th></th>\n      <th></th>\n      <th></th>\n      <th></th>\n      <th></th>\n      <th></th>\n      <th></th>\n      <th></th>\n      <th></th>\n      <th></th>\n      <th></th>\n      <th></th>\n      <th></th>\n      <th></th>\n      <th></th>\n    </tr>\n  </thead>\n  <tbody>\n    <tr>\n      <th>0</th>\n      <td>2019-01-01 00:00:18</td>\n      <td>2703186189652095</td>\n      <td>fraud_Rippin, Kub and Mann</td>\n      <td>misc_net</td>\n      <td>4.97</td>\n      <td>Jennifer</td>\n      <td>Banks</td>\n      <td>F</td>\n      <td>561 Perry Cove</td>\n      <td>Moravian Falls</td>\n      <td>...</td>\n      <td>Psychologist, counselling</td>\n      <td>1988-03-09</td>\n      <td>0b242abb623afc578575680df30655b9</td>\n      <td>1325376018</td>\n      <td>-82.048315</td>\n      <td>-82.048315</td>\n      <td>0</td>\n      <td>1988</td>\n      <td>3</td>\n      <td>9</td>\n    </tr>\n    <tr>\n      <th>1</th>\n      <td>2019-01-01 00:00:44</td>\n      <td>630423337322</td>\n      <td>fraud_Heller, Gutmann and Zieme</td>\n      <td>grocery_pos</td>\n      <td>107.23</td>\n      <td>Stephanie</td>\n      <td>Gill</td>\n      <td>F</td>\n      <td>43039 Riley Greens Suite 393</td>\n      <td>Orient</td>\n      <td>...</td>\n      <td>Special educational needs teacher</td>\n      <td>1978-06-21</td>\n      <td>1f76529f8574734946361c461b024d99</td>\n      <td>1325376044</td>\n      <td>-118.186462</td>\n      <td>-118.186462</td>\n      <td>0</td>\n      <td>1978</td>\n      <td>6</td>\n      <td>21</td>\n    </tr>\n    <tr>\n      <th>2</th>\n      <td>2019-01-01 00:00:51</td>\n      <td>38859492057661</td>\n      <td>fraud_Lind-Buckridge</td>\n      <td>entertainment</td>\n      <td>220.11</td>\n      <td>Edward</td>\n      <td>Sanchez</td>\n      <td>M</td>\n      <td>594 White Dale Suite 530</td>\n      <td>Malad City</td>\n      <td>...</td>\n      <td>Nature conservation officer</td>\n      <td>1962-01-19</td>\n      <td>a1a22d70485983eac12b5b88dad1cf95</td>\n      <td>1325376051</td>\n      <td>-112.154481</td>\n      <td>-112.154481</td>\n      <td>0</td>\n      <td>1962</td>\n      <td>1</td>\n      <td>19</td>\n    </tr>\n    <tr>\n      <th>3</th>\n      <td>2019-01-01 00:01:16</td>\n      <td>3534093764340240</td>\n      <td>fraud_Kutch, Hermiston and Farrell</td>\n      <td>gas_transport</td>\n      <td>45.00</td>\n      <td>Jeremy</td>\n      <td>White</td>\n      <td>M</td>\n      <td>9443 Cynthia Court Apt. 038</td>\n      <td>Boulder</td>\n      <td>...</td>\n      <td>Patent attorney</td>\n      <td>1967-01-12</td>\n      <td>6b849c168bdad6f867558c3793159a81</td>\n      <td>1325376076</td>\n      <td>-112.561071</td>\n      <td>-112.561071</td>\n      <td>0</td>\n      <td>1967</td>\n      <td>1</td>\n      <td>12</td>\n    </tr>\n    <tr>\n      <th>4</th>\n      <td>2019-01-01 00:03:06</td>\n      <td>375534208663984</td>\n      <td>fraud_Keeling-Crist</td>\n      <td>misc_pos</td>\n      <td>41.96</td>\n      <td>Tyler</td>\n      <td>Garcia</td>\n      <td>M</td>\n      <td>408 Bradley Rest</td>\n      <td>Doe Hill</td>\n      <td>...</td>\n      <td>Dance movement psychotherapist</td>\n      <td>1986-03-28</td>\n      <td>a41d7549acf90789359a9aa5346dcb46</td>\n      <td>1325376186</td>\n      <td>-78.632459</td>\n      <td>-78.632459</td>\n      <td>0</td>\n      <td>1986</td>\n      <td>3</td>\n      <td>28</td>\n    </tr>\n  </tbody>\n</table>\n<p>5 rows × 25 columns</p>\n</div>"
     },
     "execution_count": 7,
     "metadata": {},
     "output_type": "execute_result"
    }
   ],
   "source": [
    "# Processing date of birth\n",
    "data['dob'] = pd.to_datetime(data['dob'])  # convert to datetime object\n",
    "data['year_of_birth'] = data['dob'].dt.year  # extract year\n",
    "data['month_of_birth'] = data['dob'].dt.month  # extract month\n",
    "data['day_of_birth'] = data['dob'].dt.day  # extract day\n",
    "data.head()"
   ]
  },
  {
   "cell_type": "code",
   "execution_count": 8,
   "id": "56375b38",
   "metadata": {},
   "outputs": [
    {
     "data": {
      "text/plain": "          trans_date_trans_time            cc_num  \\\ncolumn_id                                           \n0           2019-01-01 00:00:18  2703186189652095   \n1           2019-01-01 00:00:44      630423337322   \n2           2019-01-01 00:00:51    38859492057661   \n3           2019-01-01 00:01:16  3534093764340240   \n4           2019-01-01 00:03:06   375534208663984   \n\n                                     merchant       category     amt  \\\ncolumn_id                                                              \n0                  fraud_Rippin, Kub and Mann       misc_net    4.97   \n1             fraud_Heller, Gutmann and Zieme    grocery_pos  107.23   \n2                        fraud_Lind-Buckridge  entertainment  220.11   \n3          fraud_Kutch, Hermiston and Farrell  gas_transport   45.00   \n4                         fraud_Keeling-Crist       misc_pos   41.96   \n\n               first     last gender                        street  \\\ncolumn_id                                                            \n0           Jennifer    Banks      F                561 Perry Cove   \n1          Stephanie     Gill      F  43039 Riley Greens Suite 393   \n2             Edward  Sanchez      M      594 White Dale Suite 530   \n3             Jeremy    White      M   9443 Cynthia Court Apt. 038   \n4              Tyler   Garcia      M              408 Bradley Rest   \n\n                     city  ...   merch_lat  merch_long  is_fraud  \\\ncolumn_id                  ...                                     \n0          Moravian Falls  ...  -82.048315  -82.048315         0   \n1                  Orient  ... -118.186462 -118.186462         0   \n2              Malad City  ... -112.154481 -112.154481         0   \n3                 Boulder  ... -112.561071 -112.561071         0   \n4                Doe Hill  ...  -78.632459  -78.632459         0   \n\n           year_of_birth  month_of_birth day_of_birth year_of_trans  \\\ncolumn_id                                                             \n0                   1988               3            9          2019   \n1                   1978               6           21          2019   \n2                   1962               1           19          2019   \n3                   1967               1           12          2019   \n4                   1986               3           28          2019   \n\n          month_of_trans  day_of_trans  time_of_trans  \ncolumn_id                                              \n0                      1             1       00:00:18  \n1                      1             1       00:00:44  \n2                      1             1       00:00:51  \n3                      1             1       00:01:16  \n4                      1             1       00:03:06  \n\n[5 rows x 29 columns]",
      "text/html": "<div>\n<style scoped>\n    .dataframe tbody tr th:only-of-type {\n        vertical-align: middle;\n    }\n\n    .dataframe tbody tr th {\n        vertical-align: top;\n    }\n\n    .dataframe thead th {\n        text-align: right;\n    }\n</style>\n<table border=\"1\" class=\"dataframe\">\n  <thead>\n    <tr style=\"text-align: right;\">\n      <th></th>\n      <th>trans_date_trans_time</th>\n      <th>cc_num</th>\n      <th>merchant</th>\n      <th>category</th>\n      <th>amt</th>\n      <th>first</th>\n      <th>last</th>\n      <th>gender</th>\n      <th>street</th>\n      <th>city</th>\n      <th>...</th>\n      <th>merch_lat</th>\n      <th>merch_long</th>\n      <th>is_fraud</th>\n      <th>year_of_birth</th>\n      <th>month_of_birth</th>\n      <th>day_of_birth</th>\n      <th>year_of_trans</th>\n      <th>month_of_trans</th>\n      <th>day_of_trans</th>\n      <th>time_of_trans</th>\n    </tr>\n    <tr>\n      <th>column_id</th>\n      <th></th>\n      <th></th>\n      <th></th>\n      <th></th>\n      <th></th>\n      <th></th>\n      <th></th>\n      <th></th>\n      <th></th>\n      <th></th>\n      <th></th>\n      <th></th>\n      <th></th>\n      <th></th>\n      <th></th>\n      <th></th>\n      <th></th>\n      <th></th>\n      <th></th>\n      <th></th>\n      <th></th>\n    </tr>\n  </thead>\n  <tbody>\n    <tr>\n      <th>0</th>\n      <td>2019-01-01 00:00:18</td>\n      <td>2703186189652095</td>\n      <td>fraud_Rippin, Kub and Mann</td>\n      <td>misc_net</td>\n      <td>4.97</td>\n      <td>Jennifer</td>\n      <td>Banks</td>\n      <td>F</td>\n      <td>561 Perry Cove</td>\n      <td>Moravian Falls</td>\n      <td>...</td>\n      <td>-82.048315</td>\n      <td>-82.048315</td>\n      <td>0</td>\n      <td>1988</td>\n      <td>3</td>\n      <td>9</td>\n      <td>2019</td>\n      <td>1</td>\n      <td>1</td>\n      <td>00:00:18</td>\n    </tr>\n    <tr>\n      <th>1</th>\n      <td>2019-01-01 00:00:44</td>\n      <td>630423337322</td>\n      <td>fraud_Heller, Gutmann and Zieme</td>\n      <td>grocery_pos</td>\n      <td>107.23</td>\n      <td>Stephanie</td>\n      <td>Gill</td>\n      <td>F</td>\n      <td>43039 Riley Greens Suite 393</td>\n      <td>Orient</td>\n      <td>...</td>\n      <td>-118.186462</td>\n      <td>-118.186462</td>\n      <td>0</td>\n      <td>1978</td>\n      <td>6</td>\n      <td>21</td>\n      <td>2019</td>\n      <td>1</td>\n      <td>1</td>\n      <td>00:00:44</td>\n    </tr>\n    <tr>\n      <th>2</th>\n      <td>2019-01-01 00:00:51</td>\n      <td>38859492057661</td>\n      <td>fraud_Lind-Buckridge</td>\n      <td>entertainment</td>\n      <td>220.11</td>\n      <td>Edward</td>\n      <td>Sanchez</td>\n      <td>M</td>\n      <td>594 White Dale Suite 530</td>\n      <td>Malad City</td>\n      <td>...</td>\n      <td>-112.154481</td>\n      <td>-112.154481</td>\n      <td>0</td>\n      <td>1962</td>\n      <td>1</td>\n      <td>19</td>\n      <td>2019</td>\n      <td>1</td>\n      <td>1</td>\n      <td>00:00:51</td>\n    </tr>\n    <tr>\n      <th>3</th>\n      <td>2019-01-01 00:01:16</td>\n      <td>3534093764340240</td>\n      <td>fraud_Kutch, Hermiston and Farrell</td>\n      <td>gas_transport</td>\n      <td>45.00</td>\n      <td>Jeremy</td>\n      <td>White</td>\n      <td>M</td>\n      <td>9443 Cynthia Court Apt. 038</td>\n      <td>Boulder</td>\n      <td>...</td>\n      <td>-112.561071</td>\n      <td>-112.561071</td>\n      <td>0</td>\n      <td>1967</td>\n      <td>1</td>\n      <td>12</td>\n      <td>2019</td>\n      <td>1</td>\n      <td>1</td>\n      <td>00:01:16</td>\n    </tr>\n    <tr>\n      <th>4</th>\n      <td>2019-01-01 00:03:06</td>\n      <td>375534208663984</td>\n      <td>fraud_Keeling-Crist</td>\n      <td>misc_pos</td>\n      <td>41.96</td>\n      <td>Tyler</td>\n      <td>Garcia</td>\n      <td>M</td>\n      <td>408 Bradley Rest</td>\n      <td>Doe Hill</td>\n      <td>...</td>\n      <td>-78.632459</td>\n      <td>-78.632459</td>\n      <td>0</td>\n      <td>1986</td>\n      <td>3</td>\n      <td>28</td>\n      <td>2019</td>\n      <td>1</td>\n      <td>1</td>\n      <td>00:03:06</td>\n    </tr>\n  </tbody>\n</table>\n<p>5 rows × 29 columns</p>\n</div>"
     },
     "execution_count": 8,
     "metadata": {},
     "output_type": "execute_result"
    }
   ],
   "source": [
    "# Processing transaction date and time\n",
    "data['trans_date_trans_time'] = pd.to_datetime(data['trans_date_trans_time'])  # convert to datetime object\n",
    "data['year_of_trans'] = data['trans_date_trans_time'].dt.year  # extract year\n",
    "data['month_of_trans'] = data['trans_date_trans_time'].dt.month  # extract month\n",
    "data['day_of_trans'] = data['trans_date_trans_time'].dt.day  # extract day\n",
    "data['time_of_trans'] = data['trans_date_trans_time'].dt.time  # extract time\n",
    "data.head()"
   ]
  },
  {
   "cell_type": "code",
   "execution_count": 9,
   "id": "2f1e316e",
   "metadata": {},
   "outputs": [
    {
     "name": "stdout",
     "output_type": "stream",
     "text": [
      "Gender Count: \n",
      "F    709863\n",
      "M    586812\n",
      "Name: gender, dtype: int64\n",
      "is_female Count: \n",
      "1    709863\n",
      "0    586812\n",
      "Name: is_female, dtype: int64\n"
     ]
    },
    {
     "data": {
      "text/plain": "          trans_date_trans_time            cc_num  \\\ncolumn_id                                           \n0           2019-01-01 00:00:18  2703186189652095   \n1           2019-01-01 00:00:44      630423337322   \n2           2019-01-01 00:00:51    38859492057661   \n3           2019-01-01 00:01:16  3534093764340240   \n4           2019-01-01 00:03:06   375534208663984   \n\n                                     merchant       category     amt  \\\ncolumn_id                                                              \n0                  fraud_Rippin, Kub and Mann       misc_net    4.97   \n1             fraud_Heller, Gutmann and Zieme    grocery_pos  107.23   \n2                        fraud_Lind-Buckridge  entertainment  220.11   \n3          fraud_Kutch, Hermiston and Farrell  gas_transport   45.00   \n4                         fraud_Keeling-Crist       misc_pos   41.96   \n\n               first     last gender                        street  \\\ncolumn_id                                                            \n0           Jennifer    Banks      F                561 Perry Cove   \n1          Stephanie     Gill      F  43039 Riley Greens Suite 393   \n2             Edward  Sanchez      M      594 White Dale Suite 530   \n3             Jeremy    White      M   9443 Cynthia Court Apt. 038   \n4              Tyler   Garcia      M              408 Bradley Rest   \n\n                     city  ...  merch_long  is_fraud  year_of_birth  \\\ncolumn_id                  ...                                        \n0          Moravian Falls  ...  -82.048315         0           1988   \n1                  Orient  ... -118.186462         0           1978   \n2              Malad City  ... -112.154481         0           1962   \n3                 Boulder  ... -112.561071         0           1967   \n4                Doe Hill  ...  -78.632459         0           1986   \n\n           month_of_birth  day_of_birth year_of_trans month_of_trans  \\\ncolumn_id                                                              \n0                       3             9          2019              1   \n1                       6            21          2019              1   \n2                       1            19          2019              1   \n3                       1            12          2019              1   \n4                       3            28          2019              1   \n\n          day_of_trans  time_of_trans  is_female  \ncolumn_id                                         \n0                    1       00:00:18          1  \n1                    1       00:00:44          1  \n2                    1       00:00:51          0  \n3                    1       00:01:16          0  \n4                    1       00:03:06          0  \n\n[5 rows x 30 columns]",
      "text/html": "<div>\n<style scoped>\n    .dataframe tbody tr th:only-of-type {\n        vertical-align: middle;\n    }\n\n    .dataframe tbody tr th {\n        vertical-align: top;\n    }\n\n    .dataframe thead th {\n        text-align: right;\n    }\n</style>\n<table border=\"1\" class=\"dataframe\">\n  <thead>\n    <tr style=\"text-align: right;\">\n      <th></th>\n      <th>trans_date_trans_time</th>\n      <th>cc_num</th>\n      <th>merchant</th>\n      <th>category</th>\n      <th>amt</th>\n      <th>first</th>\n      <th>last</th>\n      <th>gender</th>\n      <th>street</th>\n      <th>city</th>\n      <th>...</th>\n      <th>merch_long</th>\n      <th>is_fraud</th>\n      <th>year_of_birth</th>\n      <th>month_of_birth</th>\n      <th>day_of_birth</th>\n      <th>year_of_trans</th>\n      <th>month_of_trans</th>\n      <th>day_of_trans</th>\n      <th>time_of_trans</th>\n      <th>is_female</th>\n    </tr>\n    <tr>\n      <th>column_id</th>\n      <th></th>\n      <th></th>\n      <th></th>\n      <th></th>\n      <th></th>\n      <th></th>\n      <th></th>\n      <th></th>\n      <th></th>\n      <th></th>\n      <th></th>\n      <th></th>\n      <th></th>\n      <th></th>\n      <th></th>\n      <th></th>\n      <th></th>\n      <th></th>\n      <th></th>\n      <th></th>\n      <th></th>\n    </tr>\n  </thead>\n  <tbody>\n    <tr>\n      <th>0</th>\n      <td>2019-01-01 00:00:18</td>\n      <td>2703186189652095</td>\n      <td>fraud_Rippin, Kub and Mann</td>\n      <td>misc_net</td>\n      <td>4.97</td>\n      <td>Jennifer</td>\n      <td>Banks</td>\n      <td>F</td>\n      <td>561 Perry Cove</td>\n      <td>Moravian Falls</td>\n      <td>...</td>\n      <td>-82.048315</td>\n      <td>0</td>\n      <td>1988</td>\n      <td>3</td>\n      <td>9</td>\n      <td>2019</td>\n      <td>1</td>\n      <td>1</td>\n      <td>00:00:18</td>\n      <td>1</td>\n    </tr>\n    <tr>\n      <th>1</th>\n      <td>2019-01-01 00:00:44</td>\n      <td>630423337322</td>\n      <td>fraud_Heller, Gutmann and Zieme</td>\n      <td>grocery_pos</td>\n      <td>107.23</td>\n      <td>Stephanie</td>\n      <td>Gill</td>\n      <td>F</td>\n      <td>43039 Riley Greens Suite 393</td>\n      <td>Orient</td>\n      <td>...</td>\n      <td>-118.186462</td>\n      <td>0</td>\n      <td>1978</td>\n      <td>6</td>\n      <td>21</td>\n      <td>2019</td>\n      <td>1</td>\n      <td>1</td>\n      <td>00:00:44</td>\n      <td>1</td>\n    </tr>\n    <tr>\n      <th>2</th>\n      <td>2019-01-01 00:00:51</td>\n      <td>38859492057661</td>\n      <td>fraud_Lind-Buckridge</td>\n      <td>entertainment</td>\n      <td>220.11</td>\n      <td>Edward</td>\n      <td>Sanchez</td>\n      <td>M</td>\n      <td>594 White Dale Suite 530</td>\n      <td>Malad City</td>\n      <td>...</td>\n      <td>-112.154481</td>\n      <td>0</td>\n      <td>1962</td>\n      <td>1</td>\n      <td>19</td>\n      <td>2019</td>\n      <td>1</td>\n      <td>1</td>\n      <td>00:00:51</td>\n      <td>0</td>\n    </tr>\n    <tr>\n      <th>3</th>\n      <td>2019-01-01 00:01:16</td>\n      <td>3534093764340240</td>\n      <td>fraud_Kutch, Hermiston and Farrell</td>\n      <td>gas_transport</td>\n      <td>45.00</td>\n      <td>Jeremy</td>\n      <td>White</td>\n      <td>M</td>\n      <td>9443 Cynthia Court Apt. 038</td>\n      <td>Boulder</td>\n      <td>...</td>\n      <td>-112.561071</td>\n      <td>0</td>\n      <td>1967</td>\n      <td>1</td>\n      <td>12</td>\n      <td>2019</td>\n      <td>1</td>\n      <td>1</td>\n      <td>00:01:16</td>\n      <td>0</td>\n    </tr>\n    <tr>\n      <th>4</th>\n      <td>2019-01-01 00:03:06</td>\n      <td>375534208663984</td>\n      <td>fraud_Keeling-Crist</td>\n      <td>misc_pos</td>\n      <td>41.96</td>\n      <td>Tyler</td>\n      <td>Garcia</td>\n      <td>M</td>\n      <td>408 Bradley Rest</td>\n      <td>Doe Hill</td>\n      <td>...</td>\n      <td>-78.632459</td>\n      <td>0</td>\n      <td>1986</td>\n      <td>3</td>\n      <td>28</td>\n      <td>2019</td>\n      <td>1</td>\n      <td>1</td>\n      <td>00:03:06</td>\n      <td>0</td>\n    </tr>\n  </tbody>\n</table>\n<p>5 rows × 30 columns</p>\n</div>"
     },
     "execution_count": 9,
     "metadata": {},
     "output_type": "execute_result"
    }
   ],
   "source": [
    "# Processing Gender into binary\n",
    "gender_count = data['gender'].value_counts()\n",
    "data['is_female'] = data['gender'].apply(lambda x: 1 if x.upper() == \"F\" else 0)\n",
    "is_female_count = data['is_female'].value_counts()\n",
    "print(\"Gender Count: \\n{}\".format(gender_count))\n",
    "print(\"is_female Count: \\n{}\".format(is_female_count))\n",
    "data.head()"
   ]
  },
  {
   "cell_type": "markdown",
   "id": "e6b3e690",
   "metadata": {},
   "source": [
    "# Pre-Processing: Create Data Sub-Set"
   ]
  },
  {
   "cell_type": "code",
   "execution_count": 10,
   "id": "e9c14332",
   "metadata": {},
   "outputs": [
    {
     "name": "stdout",
     "output_type": "stream",
     "text": [
      "Subset rows: 1296675 columns: 3\n"
     ]
    },
    {
     "data": {
      "text/plain": "            merch_lat  merch_long  is_fraud\ncolumn_id                                  \n0          -82.048315  -82.048315         0\n1         -118.186462 -118.186462         0\n2         -112.154481 -112.154481         0\n3         -112.561071 -112.561071         0\n4          -78.632459  -78.632459         0",
      "text/html": "<div>\n<style scoped>\n    .dataframe tbody tr th:only-of-type {\n        vertical-align: middle;\n    }\n\n    .dataframe tbody tr th {\n        vertical-align: top;\n    }\n\n    .dataframe thead th {\n        text-align: right;\n    }\n</style>\n<table border=\"1\" class=\"dataframe\">\n  <thead>\n    <tr style=\"text-align: right;\">\n      <th></th>\n      <th>merch_lat</th>\n      <th>merch_long</th>\n      <th>is_fraud</th>\n    </tr>\n    <tr>\n      <th>column_id</th>\n      <th></th>\n      <th></th>\n      <th></th>\n    </tr>\n  </thead>\n  <tbody>\n    <tr>\n      <th>0</th>\n      <td>-82.048315</td>\n      <td>-82.048315</td>\n      <td>0</td>\n    </tr>\n    <tr>\n      <th>1</th>\n      <td>-118.186462</td>\n      <td>-118.186462</td>\n      <td>0</td>\n    </tr>\n    <tr>\n      <th>2</th>\n      <td>-112.154481</td>\n      <td>-112.154481</td>\n      <td>0</td>\n    </tr>\n    <tr>\n      <th>3</th>\n      <td>-112.561071</td>\n      <td>-112.561071</td>\n      <td>0</td>\n    </tr>\n    <tr>\n      <th>4</th>\n      <td>-78.632459</td>\n      <td>-78.632459</td>\n      <td>0</td>\n    </tr>\n  </tbody>\n</table>\n</div>"
     },
     "execution_count": 10,
     "metadata": {},
     "output_type": "execute_result"
    }
   ],
   "source": [
    "# Create a sub-set of merchant longitude and latitude\n",
    "sub1 = data[['merch_lat', 'merch_long', 'is_fraud']]\n",
    "print('Subset rows: {} columns: {}'.format(sub1.shape[0], sub1.shape[1]))\n",
    "sub1.head()"
   ]
  },
  {
   "cell_type": "code",
   "execution_count": 11,
   "id": "b30593fb",
   "metadata": {},
   "outputs": [
    {
     "name": "stdout",
     "output_type": "stream",
     "text": [
      "Fraud count: 7506\n"
     ]
    },
    {
     "data": {
      "text/plain": "           merch_lat  merch_long  is_fraud\ncolumn_id                                 \n2449      -81.179483  -81.179483         1\n2472      -99.142791  -99.142791         1\n2523      -98.836360  -98.836360         1\n2546      -82.091010  -82.091010         1\n2553      -98.683410  -98.683410         1",
      "text/html": "<div>\n<style scoped>\n    .dataframe tbody tr th:only-of-type {\n        vertical-align: middle;\n    }\n\n    .dataframe tbody tr th {\n        vertical-align: top;\n    }\n\n    .dataframe thead th {\n        text-align: right;\n    }\n</style>\n<table border=\"1\" class=\"dataframe\">\n  <thead>\n    <tr style=\"text-align: right;\">\n      <th></th>\n      <th>merch_lat</th>\n      <th>merch_long</th>\n      <th>is_fraud</th>\n    </tr>\n    <tr>\n      <th>column_id</th>\n      <th></th>\n      <th></th>\n      <th></th>\n    </tr>\n  </thead>\n  <tbody>\n    <tr>\n      <th>2449</th>\n      <td>-81.179483</td>\n      <td>-81.179483</td>\n      <td>1</td>\n    </tr>\n    <tr>\n      <th>2472</th>\n      <td>-99.142791</td>\n      <td>-99.142791</td>\n      <td>1</td>\n    </tr>\n    <tr>\n      <th>2523</th>\n      <td>-98.836360</td>\n      <td>-98.836360</td>\n      <td>1</td>\n    </tr>\n    <tr>\n      <th>2546</th>\n      <td>-82.091010</td>\n      <td>-82.091010</td>\n      <td>1</td>\n    </tr>\n    <tr>\n      <th>2553</th>\n      <td>-98.683410</td>\n      <td>-98.683410</td>\n      <td>1</td>\n    </tr>\n  </tbody>\n</table>\n</div>"
     },
     "execution_count": 11,
     "metadata": {},
     "output_type": "execute_result"
    }
   ],
   "source": [
    "# Check how many cases are fraud\n",
    "is_fraud_count = sub1[(sub1['is_fraud'] == 1)]\n",
    "print('Fraud count: {}'.format(len(is_fraud_count)))\n",
    "is_fraud_count.head()"
   ]
  },
  {
   "cell_type": "code",
   "execution_count": 12,
   "id": "96a54bd4",
   "metadata": {},
   "outputs": [],
   "source": [
    "sub2 = sub1.copy()"
   ]
  },
  {
   "cell_type": "markdown",
   "id": "ad23e6c4",
   "metadata": {},
   "source": [
    "# Data Mining Technique/Method:\n",
    "## Visualisation: Pre-Processing"
   ]
  },
  {
   "cell_type": "code",
   "execution_count": 13,
   "id": "bffe1def",
   "metadata": {},
   "outputs": [
    {
     "data": {
      "text/plain": "            merch_lat  merch_long  is_fraud\ncolumn_id                                  \n0          -82.048315  -82.048315         0\n1         -118.186462 -118.186462         0\n2         -112.154481 -112.154481         0\n3         -112.561071 -112.561071         0\n4          -78.632459  -78.632459         0",
      "text/html": "<div>\n<style scoped>\n    .dataframe tbody tr th:only-of-type {\n        vertical-align: middle;\n    }\n\n    .dataframe tbody tr th {\n        vertical-align: top;\n    }\n\n    .dataframe thead th {\n        text-align: right;\n    }\n</style>\n<table border=\"1\" class=\"dataframe\">\n  <thead>\n    <tr style=\"text-align: right;\">\n      <th></th>\n      <th>merch_lat</th>\n      <th>merch_long</th>\n      <th>is_fraud</th>\n    </tr>\n    <tr>\n      <th>column_id</th>\n      <th></th>\n      <th></th>\n      <th></th>\n    </tr>\n  </thead>\n  <tbody>\n    <tr>\n      <th>0</th>\n      <td>-82.048315</td>\n      <td>-82.048315</td>\n      <td>0</td>\n    </tr>\n    <tr>\n      <th>1</th>\n      <td>-118.186462</td>\n      <td>-118.186462</td>\n      <td>0</td>\n    </tr>\n    <tr>\n      <th>2</th>\n      <td>-112.154481</td>\n      <td>-112.154481</td>\n      <td>0</td>\n    </tr>\n    <tr>\n      <th>3</th>\n      <td>-112.561071</td>\n      <td>-112.561071</td>\n      <td>0</td>\n    </tr>\n    <tr>\n      <th>4</th>\n      <td>-78.632459</td>\n      <td>-78.632459</td>\n      <td>0</td>\n    </tr>\n  </tbody>\n</table>\n</div>"
     },
     "execution_count": 13,
     "metadata": {},
     "output_type": "execute_result"
    }
   ],
   "source": [
    "# Current data subset\n",
    "sub2.head()"
   ]
  },
  {
   "cell_type": "code",
   "execution_count": 14,
   "outputs": [
    {
     "data": {
      "text/plain": "            merch_lat  merch_long\ncolumn_id                        \n0          -82.048315  -82.048315\n1         -118.186462 -118.186462\n2         -112.154481 -112.154481\n3         -112.561071 -112.561071\n4          -78.632459  -78.632459",
      "text/html": "<div>\n<style scoped>\n    .dataframe tbody tr th:only-of-type {\n        vertical-align: middle;\n    }\n\n    .dataframe tbody tr th {\n        vertical-align: top;\n    }\n\n    .dataframe thead th {\n        text-align: right;\n    }\n</style>\n<table border=\"1\" class=\"dataframe\">\n  <thead>\n    <tr style=\"text-align: right;\">\n      <th></th>\n      <th>merch_lat</th>\n      <th>merch_long</th>\n    </tr>\n    <tr>\n      <th>column_id</th>\n      <th></th>\n      <th></th>\n    </tr>\n  </thead>\n  <tbody>\n    <tr>\n      <th>0</th>\n      <td>-82.048315</td>\n      <td>-82.048315</td>\n    </tr>\n    <tr>\n      <th>1</th>\n      <td>-118.186462</td>\n      <td>-118.186462</td>\n    </tr>\n    <tr>\n      <th>2</th>\n      <td>-112.154481</td>\n      <td>-112.154481</td>\n    </tr>\n    <tr>\n      <th>3</th>\n      <td>-112.561071</td>\n      <td>-112.561071</td>\n    </tr>\n    <tr>\n      <th>4</th>\n      <td>-78.632459</td>\n      <td>-78.632459</td>\n    </tr>\n  </tbody>\n</table>\n</div>"
     },
     "execution_count": 14,
     "metadata": {},
     "output_type": "execute_result"
    }
   ],
   "source": [
    "# Get only longitude and latitude and normalise\n",
    "sub2 = data[['merch_lat', 'merch_long']]\n",
    "sub2.head()"
   ],
   "metadata": {
    "collapsed": false
   }
  },
  {
   "cell_type": "code",
   "execution_count": 15,
   "outputs": [],
   "source": [
    "sub3 = sub2.copy()"
   ],
   "metadata": {
    "collapsed": false
   }
  },
  {
   "cell_type": "markdown",
   "id": "b19b8e12",
   "metadata": {},
   "source": [
    "## Visualisation: Plots/Graphs\n",
    "### Hierarchical Clustering for Merchant Longitude and Latitude - All cases"
   ]
  },
  {
   "cell_type": "code",
   "execution_count": 16,
   "outputs": [
    {
     "name": "stdout",
     "output_type": "stream",
     "text": [
      "Current size of data: 1296675 \n",
      "\n",
      "Random fraction sub-sample: \n",
      "            merch_lat  merch_long\n",
      "column_id                        \n",
      "1045211    -78.865012  -78.865012\n",
      "547406    -123.636337 -123.636337\n",
      "110142     -78.898190  -78.898190\n",
      "1285953    -76.542384  -76.542384\n",
      "271705    -104.092324 -104.092324\n",
      "...               ...         ...\n",
      "89611      -78.724721  -78.724721\n",
      "412827     -91.710715  -91.710715\n",
      "206253     -84.767533  -84.767533\n",
      "864970     -96.467003  -96.467003\n",
      "448322     -92.723569  -92.723569\n",
      "\n",
      "[12967 rows x 2 columns] Records Count: 12967\n"
     ]
    }
   ],
   "source": [
    "%matplotlib inline\n",
    "\n",
    "# Pre-processing for visualisation\n",
    "np.random.seed(42)\n",
    "\n",
    "sub_fraction = 0.01\n",
    "random_fraction_sub = sub3.sample(frac=sub_fraction, random_state=42)\n",
    "\n",
    "print(f\"Current size of data: {len(sub3)} \\n\")\n",
    "print(f\"Random fraction sub-sample: \\n{random_fraction_sub} Records Count: {len(random_fraction_sub)}\")"
   ],
   "metadata": {
    "collapsed": false
   }
  },
  {
   "cell_type": "code",
   "execution_count": 17,
   "id": "09160d7d",
   "metadata": {},
   "outputs": [
    {
     "data": {
      "text/plain": "<Figure size 1000x700 with 1 Axes>",
      "image/png": "[encoded data removed]"
     },
     "metadata": {},
     "output_type": "display_data"
    }
   ],
   "source": [
    "# Visualise spatial data using scatter plot as locations\n",
    "plt.figure(figsize=(10, 7))\n",
    "plt.subplots_adjust(bottom=0.1)\n",
    "plt.scatter(random_fraction_sub.iloc[:,0], random_fraction_sub.iloc[:,1])\n",
    "plt.title(\"Scatter Plot for ALl Cases\")\n",
    "plt.show()"
   ]
  },
  {
   "cell_type": "code",
   "execution_count": null,
   "outputs": [],
   "source": [
    "# Spatial data using Agglomerate Clustering\n",
    "cluster = AgglomerativeClustering(n_clusters=3, metric='euclidean', linkage='single')\n",
    "cluster.fit_predict(sub3)\n",
    "print(cluster.labels_)"
   ],
   "metadata": {
    "collapsed": false,
    "pycharm": {
     "is_executing": true
    }
   }
  },
  {
   "cell_type": "code",
   "execution_count": null,
   "outputs": [],
   "source": [
    "# Scatter Plot the clusters\n",
    "plt.title(\"Hierarchical Clustering Scatter Plot All Cases\")\n",
    "plt.scatter(sub3.iloc[:,0], sub3.iloc[:,1], c=cluster.labels_, cmap='rainbow')"
   ],
   "metadata": {
    "collapsed": false,
    "pycharm": {
     "is_executing": true
    }
   }
  },
  {
   "cell_type": "markdown",
   "source": [
    "#### Conclusions:\n",
    "Hierarchical clustering produces a clustering result closer to expected, this will now be compared to fraud versus non-fraud cases and see if there are any differences.\n"
   ],
   "metadata": {
    "collapsed": false
   }
  },
  {
   "cell_type": "markdown",
   "source": [
    "### Hierarchical Clustering for Merchant Longitude and Latitude - Fraud versus Non-Fraud Cases"
   ],
   "metadata": {
    "collapsed": false
   }
  },
  {
   "cell_type": "code",
   "execution_count": null,
   "outputs": [],
   "source": [
    "sub1.head()"
   ],
   "metadata": {
    "collapsed": false,
    "pycharm": {
     "is_executing": true
    }
   }
  },
  {
   "cell_type": "code",
   "execution_count": null,
   "outputs": [],
   "source": [
    "# Pre-processing for visualisation\n",
    "np.random.seed(42)\n",
    "\n",
    "sub_fraction = 0.01\n",
    "random_fraction_sub = sub1.sample(frac=sub_fraction, random_state=42)\n",
    "\n",
    "print(f\"Current size of data: {len(sub1)} \\n\")\n",
    "print(f\"Random fraction sub-sample: \\n{random_fraction_sub} Records Count: {len(random_fraction_sub)}\")"
   ],
   "metadata": {
    "collapsed": false,
    "pycharm": {
     "is_executing": true
    }
   }
  },
  {
   "cell_type": "code",
   "execution_count": null,
   "outputs": [],
   "source": [
    "# Get fraud  cases\n",
    "is_fraud_cases = random_fraction_sub[(random_fraction_sub['is_fraud'] == 1)]\n",
    "print('Fraud count: {}'.format(len(is_fraud_cases)))\n",
    "is_fraud_cases.head()"
   ],
   "metadata": {
    "collapsed": false,
    "pycharm": {
     "is_executing": true
    }
   }
  },
  {
   "cell_type": "code",
   "execution_count": null,
   "outputs": [],
   "source": [
    "is_fraud_cases = is_fraud_cases[['merch_lat', 'merch_long']]\n",
    "is_fraud_cases.head()"
   ],
   "metadata": {
    "collapsed": false,
    "pycharm": {
     "is_executing": true
    }
   }
  },
  {
   "cell_type": "code",
   "execution_count": null,
   "outputs": [],
   "source": [
    "# Get  non-fraud cases\n",
    "is_not_fraud_cases = random_fraction_sub[(random_fraction_sub['is_fraud'] != 1)]\n",
    "print('Fraud count: {}'.format(len(is_not_fraud_cases)))\n",
    "is_not_fraud_cases.head()"
   ],
   "metadata": {
    "collapsed": false,
    "pycharm": {
     "is_executing": true
    }
   }
  },
  {
   "cell_type": "code",
   "execution_count": null,
   "outputs": [],
   "source": [
    "is_not_fraud_cases = is_not_fraud_cases[['merch_lat', 'merch_long']]\n",
    "is_not_fraud_cases.head()"
   ],
   "metadata": {
    "collapsed": false,
    "pycharm": {
     "is_executing": true
    }
   }
  },
  {
   "cell_type": "code",
   "execution_count": null,
   "outputs": [],
   "source": [
    "# Visualise fraud cases\n",
    "plt.title(\"Scatter Plot Fraud Cases\")\n",
    "plt.figure(figsize=(10, 7))\n",
    "plt.subplots_adjust(bottom=0.1)\n",
    "plt.scatter(is_fraud_cases.iloc[:,0], is_fraud_cases.iloc[:,1])\n",
    "plt.show()"
   ],
   "metadata": {
    "collapsed": false,
    "pycharm": {
     "is_executing": true
    }
   }
  },
  {
   "cell_type": "code",
   "execution_count": null,
   "outputs": [],
   "source": [
    "# Visualise non-fraud cases\n",
    "plt.title(\"Scatter Plot Non-Fraud Cases\")\n",
    "plt.figure(figsize=(10, 7))\n",
    "plt.subplots_adjust(bottom=0.1)\n",
    "plt.scatter(is_not_fraud_cases.iloc[:,0], is_not_fraud_cases.iloc[:,1])\n",
    "plt.show()"
   ],
   "metadata": {
    "collapsed": false,
    "pycharm": {
     "is_executing": true
    }
   }
  },
  {
   "cell_type": "code",
   "execution_count": null,
   "outputs": [],
   "source": [
    "# Agglomerate Clustering for fraud cases\n",
    "cluster = AgglomerativeClustering(n_clusters=3, metric='euclidean', linkage='single')\n",
    "cluster.fit_predict(is_fraud_cases)\n",
    "print(cluster.labels_)"
   ],
   "metadata": {
    "collapsed": false,
    "pycharm": {
     "is_executing": true
    }
   }
  },
  {
   "cell_type": "code",
   "execution_count": null,
   "outputs": [],
   "source": [
    "# Agglomerate Clustering for non-fraud cases\n",
    "cluster = AgglomerativeClustering(n_clusters=3, metric='euclidean', linkage='single')\n",
    "cluster.fit_predict(is_not_fraud_cases)\n",
    "print(cluster.labels_)"
   ],
   "metadata": {
    "collapsed": false,
    "pycharm": {
     "is_executing": true
    }
   }
  },
  {
   "cell_type": "code",
   "execution_count": null,
   "outputs": [],
   "source": [
    "# Plot the clusters\n",
    "plt.title(\"Hierarchical clustering Fraud Cases\")\n",
    "plt.scatter(is_fraud_cases.iloc[:,0], is_fraud_cases.iloc[:,1], c=cluster.labels_, cmap='rainbow')"
   ],
   "metadata": {
    "collapsed": false,
    "pycharm": {
     "is_executing": true
    }
   }
  },
  {
   "cell_type": "code",
   "execution_count": null,
   "outputs": [],
   "source": [
    "# Plot the clusters\n",
    "plt.title(\"Hierarchical clustering Non-Fraud Cases\")\n",
    "plt.scatter(is_not_fraud_cases.iloc[:,0], is_not_fraud_cases.iloc[:,1], c=cluster.labels_, cmap='rainbow')"
   ],
   "metadata": {
    "collapsed": false,
    "pycharm": {
     "is_executing": true
    }
   }
  },
  {
   "cell_type": "markdown",
   "source": [
    "## Discussion: Results and Data\n"
   ],
   "metadata": {
    "collapsed": false
   }
  }
 ],
 "metadata": {
  "kernelspec": {
   "display_name": "Python 3 (ipykernel)",
   "language": "python",
   "name": "python3"
  },
  "language_info": {
   "codemirror_mode": {
    "name": "ipython",
    "version": 3
   },
   "file_extension": ".py",
   "mimetype": "text/x-python",
   "name": "python",
   "nbconvert_exporter": "python",
   "pygments_lexer": "ipython3",
   "version": "3.9.16"
  }
 },
 "nbformat": 4,
 "nbformat_minor": 5
}
