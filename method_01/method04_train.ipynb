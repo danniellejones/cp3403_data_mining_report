{
 "cells": [
  {
   "cell_type": "markdown",
   "id": "a6339600",
   "metadata": {},
   "source": [
    "# CP3403 Data Mining\n",
    "## Report: Credit Card Fraud\n",
    "\n",
    "### Group: Matthew Marsh, Dannielle Jones and Callum Gracie"
   ]
  },
  {
   "cell_type": "markdown",
   "id": "ee4e07d2",
   "metadata": {},
   "source": [
    "This data mining explores: A time series to see if there is a relationship between city population to fraud cases over time."
   ]
  },
  {
   "cell_type": "markdown",
   "id": "d5dafdd1",
   "metadata": {},
   "source": [
    "# Import Packages and Get Data"
   ]
  },
  {
   "cell_type": "code",
   "execution_count": null,
   "id": "28d346ac",
   "metadata": {},
   "outputs": [],
   "source": [
    "import pandas as pd\n",
    "import numpy as np\n",
    "import seaborn as sns\n",
    "import matplotlib.pyplot as plt\n",
    "#from datetime import datetime, date\n",
    "from statsmodels.tsa.stattools import adfuller\n",
    "from statsmodels.tsa.seasonal import seasonal_decompose\n",
    "from statsmodels.tsa.stattools import acf, pacf\n",
    "from sklearn.metrics import mean_squared_error\n",
    "from pmdarima.arima import auto_arima\n",
    "from math import sqrt"
   ]
  },
  {
   "cell_type": "code",
   "execution_count": null,
   "id": "ce23ddc8",
   "metadata": {},
   "outputs": [],
   "source": [
    "data = pd.read_csv('../data/fraudTrain.csv')  # Read\n",
    "#pd.set_option('display.float_format', lambda x:'%f'%x)  # Format"
   ]
  },
  {
   "cell_type": "code",
   "execution_count": null,
   "id": "bc6ac368",
   "metadata": {},
   "outputs": [],
   "source": [
    "#print('Number of Records: {}'.format(len(data)))\n",
    "print('Dataset rows: {} columns: {}'.format(data.shape[0], data.shape[1]))\n",
    "data.head()"
   ]
  },
  {
   "cell_type": "markdown",
   "id": "b5d8f49c",
   "metadata": {},
   "source": [
    "# Pre-Processing: NaN Data and Missing Data"
   ]
  },
  {
   "cell_type": "code",
   "execution_count": null,
   "id": "8d292f63",
   "metadata": {},
   "outputs": [],
   "source": [
    "# Check dataset for missing or NaN values\n",
    "print('Dataset rows: {} columns: {}'.format(data.shape[0], data.shape[1]))\n",
    "missing_values_count = data.isna().sum()\n",
    "print(missing_values_count)"
   ]
  },
  {
   "cell_type": "markdown",
   "id": "1ad2c89d",
   "metadata": {},
   "source": [
    "# Pre-Processing: Convert and Format Data"
   ]
  },
  {
   "cell_type": "code",
   "execution_count": null,
   "id": "73e6f9c3",
   "metadata": {},
   "outputs": [],
   "source": [
    "# View the unnamed column, then get and rename\n",
    "print(data.iloc[:,0])\n",
    "data = data.rename(columns={data.columns[0]: \"column_id\"})\n",
    "data.set_index('column_id', inplace=True)\n",
    "data.head()"
   ]
  },
  {
   "cell_type": "code",
   "execution_count": null,
   "id": "9b4a23f8",
   "metadata": {},
   "outputs": [],
   "source": [
    "# Convert to numeric\n",
    "data['amt'] = pd.to_numeric(data['amt'], errors='coerce')\n",
    "data['zip'] = pd.to_numeric(data['zip'], errors='coerce')\n",
    "data['lat'] = pd.to_numeric(data['lat'], errors='coerce')\n",
    "data['long'] = pd.to_numeric(data['long'], errors='coerce')\n",
    "data['city_pop'] = pd.to_numeric(data['city_pop'], errors='coerce')\n",
    "data['merch_lat'] = pd.to_numeric(data['merch_long'], errors='coerce')\n",
    "data['is_fraud'] = pd.to_numeric(data['is_fraud'], errors='coerce')"
   ]
  },
  {
   "cell_type": "code",
   "execution_count": null,
   "id": "988aead7",
   "metadata": {},
   "outputs": [],
   "source": [
    "# Processing date of birth\n",
    "data['dob'] = pd.to_datetime(data['dob'])  # convert to datetime object\n",
    "data['year_of_birth'] = data['dob'].dt.year  # extract year\n",
    "data['month_of_birth'] = data['dob'].dt.month  # extract month\n",
    "data['day_of_birth'] = data['dob'].dt.day  # extract day\n",
    "data.head()"
   ]
  },
  {
   "cell_type": "code",
   "execution_count": null,
   "id": "56375b38",
   "metadata": {},
   "outputs": [],
   "source": [
    "# Processing transaction date and time\n",
    "data['trans_date_trans_time'] = pd.to_datetime(data['trans_date_trans_time'])  # convert to datetime object\n",
    "data['trans_year'] = data['trans_date_trans_time'].dt.year  # extract year\n",
    "data['trans_month'] = data['trans_date_trans_time'].dt.month  # extract month\n",
    "data['trans_day'] = data['trans_date_trans_time'].dt.day  # extract day\n",
    "data['trans_time'] = data['trans_date_trans_time'].dt.time  # extract time\n",
    "data.head()"
   ]
  },
  {
   "cell_type": "code",
   "execution_count": null,
   "id": "2f1e316e",
   "metadata": {},
   "outputs": [],
   "source": [
    "# Processing Gender into binary\n",
    "gender_count = data['gender'].value_counts()\n",
    "data['is_female'] = data['gender'].apply(lambda x: 1 if x.upper() == \"F\" else 0)\n",
    "is_female_count = data['is_female'].value_counts()\n",
    "print(\"Gender Count: \\n{}\".format(gender_count))\n",
    "print(\"is_female Count: \\n{}\".format(is_female_count))\n",
    "data.head()"
   ]
  },
  {
   "cell_type": "code",
   "execution_count": null,
   "outputs": [],
   "source": [
    "sub1 = data.copy()"
   ],
   "metadata": {
    "collapsed": false
   }
  },
  {
   "cell_type": "markdown",
   "id": "e6b3e690",
   "metadata": {},
   "source": [
    "# Pre-Processing: Create Data Sub-Set"
   ]
  },
  {
   "cell_type": "code",
   "execution_count": null,
   "id": "e9c14332",
   "metadata": {},
   "outputs": [],
   "source": [
    "# Reduce sample size for computation: Get random sub-sample\n",
    "np.random.seed(42)\n",
    "sub_fraction = 0.01\n",
    "\n",
    "random_fraction_sub = sub1.sample(frac=sub_fraction, random_state=42)\n",
    "print(f\"Current size of data: {len(sub1)} \\n\")\n",
    "print(f\"Records Count: {len(random_fraction_sub)}\")\n",
    "\n",
    "sub1 = random_fraction_sub\n",
    "print('Subset rows: {} columns: {}'.format(sub1.shape[0], sub1.shape[1]))\n",
    "sub1.head()"
   ]
  },
  {
   "cell_type": "code",
   "execution_count": null,
   "id": "b30593fb",
   "metadata": {},
   "outputs": [],
   "source": [
    "# Check how many cases are fraud\n",
    "is_fraud_count = sub1[(sub1['is_fraud'] == 1)]\n",
    "print('Fraud count: {}'.format(len(is_fraud_count)))\n",
    "is_not_fraud_count = sub1[(sub1['is_fraud'] != 1)]\n",
    "print('Non-Fraud count: {}'.format(len(is_not_fraud_count)))\n",
    "is_fraud_count.head()"
   ]
  },
  {
   "cell_type": "code",
   "execution_count": null,
   "id": "96a54bd4",
   "metadata": {},
   "outputs": [],
   "source": [
    "sub1 = sub1[(sub1['is_fraud'] == 1)]\n",
    "sub2 = sub1.copy()"
   ]
  },
  {
   "cell_type": "markdown",
   "id": "ad23e6c4",
   "metadata": {},
   "source": [
    "# Data Mining Technique/Method: Time Series\n",
    "## Visualisation: Pre-Processing"
   ]
  },
  {
   "cell_type": "code",
   "execution_count": null,
   "id": "bffe1def",
   "metadata": {},
   "outputs": [],
   "source": [
    "# Set date/time as index and sub-sample relevant columns\n",
    "sub2['trans_date'] = sub2['trans_date_trans_time'].dt.date  # extract date\n",
    "sub2['trans_date'] = pd.to_datetime((sub2['trans_date']))\n",
    "sub2.head(2)"
   ]
  },
  {
   "cell_type": "code",
   "execution_count": null,
   "outputs": [],
   "source": [
    "sub2.set_index('trans_date', inplace=True)\n",
    "sub2.head(2)"
   ],
   "metadata": {
    "collapsed": false
   }
  },
  {
   "cell_type": "code",
   "execution_count": null,
   "outputs": [],
   "source": [
    "sub2 = sub2[['city_pop', 'is_fraud', 'trans_year', 'trans_month']].copy()\n",
    "sub2 = sub2.sort_values(by='trans_date')"
   ],
   "metadata": {
    "collapsed": false
   }
  },
  {
   "cell_type": "code",
   "execution_count": null,
   "outputs": [],
   "source": [
    "sub2.head(2)  # View start date"
   ],
   "metadata": {
    "collapsed": false
   }
  },
  {
   "cell_type": "code",
   "execution_count": null,
   "outputs": [],
   "source": [
    "sub2.tail(2)  # View end date"
   ],
   "metadata": {
    "collapsed": false
   }
  },
  {
   "cell_type": "code",
   "execution_count": null,
   "outputs": [],
   "source": [
    "# Slice specific time frame\n",
    "date_range_from = '2019-06-01'\n",
    "date_range_to = '2020-06-01'\n",
    "select_year = '2019'\n",
    "\n",
    "transaction_all_data = sub2.copy()  # All dates\n",
    "# transaction_all_data.reset_index(inplace=True)\n",
    "# transaction_all_data.set_index('trans_year', inplace=True)\n",
    "transaction_all_data.head()"
   ],
   "metadata": {
    "collapsed": false
   }
  },
  {
   "cell_type": "code",
   "execution_count": null,
   "outputs": [],
   "source": [
    "transaction_range_data = sub2[date_range_from:date_range_to]  # Range of date\n",
    "# transaction_range_data.reset_index(inplace=True)\n",
    "# transaction_range_data.set_index('trans_year', inplace=True)\n",
    "transaction_range_data.tail()"
   ],
   "metadata": {
    "collapsed": false
   }
  },
  {
   "cell_type": "code",
   "execution_count": null,
   "outputs": [],
   "source": [
    "transaction_year_data = sub2.loc[select_year]  # Specific year\n",
    "# transaction_year_data.reset_index(inplace=True)\n",
    "# transaction_year_data.set_index('trans_month', inplace=True)\n",
    "transaction_year_data.head()"
   ],
   "metadata": {
    "collapsed": false
   }
  },
  {
   "cell_type": "markdown",
   "id": "b19b8e12",
   "metadata": {},
   "source": [
    "## Visualisation: Plots/Graphs"
   ]
  },
  {
   "cell_type": "code",
   "execution_count": null,
   "id": "09160d7d",
   "metadata": {},
   "outputs": [],
   "source": [
    "%matplotlib inline\n",
    "\n",
    "# Plot of transaction data - all\n",
    "plt.title(\"Time Series Plot Transactions to City Population\")\n",
    "plt.plot(transaction_all_data['city_pop'])"
   ]
  },
  {
   "cell_type": "code",
   "execution_count": null,
   "outputs": [],
   "source": [
    "plt.title(\"Box Plot Transactions to City Population\")\n",
    "ax = sns.boxplot(data=transaction_all_data, x='trans_year', y='city_pop')"
   ],
   "metadata": {
    "collapsed": false
   }
  },
  {
   "cell_type": "code",
   "execution_count": null,
   "outputs": [],
   "source": [
    "# Plot of transaction data - date range\n",
    "plt.title(f\"Time Series Plot Transactions to City Population Between {date_range_from} to {date_range_to}\")\n",
    "plt.plot(transaction_year_data)"
   ],
   "metadata": {
    "collapsed": false
   }
  },
  {
   "cell_type": "code",
   "execution_count": null,
   "outputs": [],
   "source": [
    "plt.title(\"Box Plot Transactions to City Population\")\n",
    "ax3 = sns.boxplot(data=transaction_range_data, x='trans_year', y='city_pop')"
   ],
   "metadata": {
    "collapsed": false
   }
  },
  {
   "cell_type": "code",
   "execution_count": null,
   "outputs": [],
   "source": [
    "# Plot of transaction data - year\n",
    "plt.title(f\"Time Series Plot Transactions to City Population in Year {select_year}\")\n",
    "plt.plot(transaction_year_data)"
   ],
   "metadata": {
    "collapsed": false
   }
  },
  {
   "cell_type": "code",
   "execution_count": null,
   "outputs": [],
   "source": [
    "plt.title(\"Box Plot Transactions to City Population\")\n",
    "ax2 = sns.boxplot(data=transaction_year_data, x='trans_month', y='city_pop')"
   ],
   "metadata": {
    "collapsed": false
   }
  },
  {
   "cell_type": "markdown",
   "source": [
    "### Stationary Check"
   ],
   "metadata": {
    "collapsed": false
   }
  },
  {
   "cell_type": "code",
   "execution_count": null,
   "outputs": [],
   "source": [
    "# Perform Stationary Test\n",
    "def test_stationary(timeseries, number_of_months):\n",
    "\n",
    "    #Determing rolling statistics\n",
    "    rolling_mean = timeseries.rolling(window=number_of_months).mean()\n",
    "    rolling_std = timeseries.rolling(window=number_of_months).std()\n",
    "\n",
    "    #Plot rolling statistics:\n",
    "    orig = plt.plot(timeseries, color='blue',label='Original')\n",
    "    mean = plt.plot(rolling_mean, color='red', label='Rolling Mean')\n",
    "    std = plt.plot(rolling_std, color='black', label = 'Rolling Std')\n",
    "    plt.legend(loc='best')\n",
    "    plt.title('Rolling Mean & Standard Deviation')\n",
    "    plt.show(block=False)"
   ],
   "metadata": {
    "collapsed": false
   }
  },
  {
   "cell_type": "code",
   "execution_count": null,
   "outputs": [],
   "source": [
    "print(\"Stationary Test - ALl Data\")\n",
    "test_stationary(transaction_all_data['city_pop'], 12)\n",
    "print()\n",
    "\n",
    "print(f\"Stationary Test - Range {date_range_from} to {date_range_to}\")\n",
    "test_stationary(transaction_range_data['city_pop'], 12)\n",
    "print()\n",
    "\n",
    "print(f\"Stationary Test - Year {select_year}\")\n",
    "test_stationary(transaction_year_data['city_pop'], 12)\n",
    "print()"
   ],
   "metadata": {
    "collapsed": false
   }
  },
  {
   "cell_type": "code",
   "execution_count": null,
   "outputs": [],
   "source": [
    "# Perform Dickey-Fuller Test\n",
    "def test_dickey_fuller(timeseries):\n",
    "    print('Results of Dickey-Fuller Test:')\n",
    "    df_test = adfuller(timeseries, autolag='AIC')\n",
    "\n",
    "    df_output = pd.Series(df_test[0:4], index=['Test Statistic','p-value','#Lags Used','Number of Observations Used'])\n",
    "    for key,value in df_test[4].items():\n",
    "        df_output['Critical Value (%s)'%key] = value\n",
    "    print (df_output)"
   ],
   "metadata": {
    "collapsed": false
   }
  },
  {
   "cell_type": "code",
   "execution_count": null,
   "outputs": [],
   "source": [
    "print(\"Dickey Fuller Test - ALl Data\")\n",
    "test_dickey_fuller(transaction_all_data['city_pop'])\n",
    "print()\n",
    "\n",
    "print(f\"Dickey Fuller Test - Range {date_range_from} to {date_range_to}\")\n",
    "test_dickey_fuller(transaction_range_data['city_pop'])\n",
    "print()\n",
    "\n",
    "print(f\"Dickey Fuller Test - Year {select_year}\")\n",
    "test_dickey_fuller(transaction_year_data['city_pop'])\n",
    "print()"
   ],
   "metadata": {
    "collapsed": false
   }
  },
  {
   "cell_type": "markdown",
   "source": [
    "#### Conclusions:\n",
    "All data test: The p-value indicates that we reject the null hypothesis of non-stationary, indicating that the data is stationary.\n",
    "Range data test: The p-value indicates that we reject the null hypothesis of non-stationary, indicating that the data is stationary.\n",
    "Year data test: The p-value indicates that we reject the null hypothesis of non-stationary, indicating that the data is stationary."
   ],
   "metadata": {
    "collapsed": false
   }
  },
  {
   "cell_type": "markdown",
   "source": [
    "### Auto-correlation"
   ],
   "metadata": {
    "collapsed": false
   }
  },
  {
   "cell_type": "code",
   "execution_count": null,
   "outputs": [],
   "source": [
    "# Perform auto-correlation lag\n",
    "def auto_correlation_lag(dataframe, column_name, number_of_months):\n",
    "    \"\"\"\n",
    "    Perform auto correlation lag\n",
    "    :param dataframe:\n",
    "    :param column_name:\n",
    "    :param number_of_months:\n",
    "    :return: auto lag correlation by number of months\n",
    "    \"\"\"\n",
    "    return dataframe[column_name].autocorr(lag=number_of_months)"
   ],
   "metadata": {
    "collapsed": false
   }
  },
  {
   "cell_type": "code",
   "execution_count": null,
   "outputs": [],
   "source": [
    "lag_month_number = 1\n",
    "\n",
    "print(f\"All Data - {lag_month_number} Month Lag: {auto_correlation_lag(transaction_all_data, 'city_pop', lag_month_number)}\")\n",
    "print(f\"Range {date_range_from} to {date_range_to} Data - {lag_month_number} Month Lag: {auto_correlation_lag(transaction_all_data, 'city_pop', lag_month_number)}\")\n",
    "print(f\"Year {select_year } Data - {lag_month_number} Month Lag: {auto_correlation_lag(transaction_all_data, 'city_pop', lag_month_number)}\")"
   ],
   "metadata": {
    "collapsed": false
   }
  },
  {
   "cell_type": "markdown",
   "source": [
    "#### Conclusions:\n",
    "All data lag: Indicates a weak negative linear dependence between observations that are 1 month apart. There is little correlation between consecutive months in the data.\n",
    "Range data lag: Indicates a weak negative linear dependence between observations that are 1 month apart. There is little correlation between consecutive months in the data.\n",
    "Year data lag: Indicates a weak negative linear dependence between observations that are 1 month apart. There is little correlation between consecutive months in the data."
   ],
   "metadata": {
    "collapsed": false
   }
  },
  {
   "cell_type": "markdown",
   "source": [
    "### Decomposition"
   ],
   "metadata": {
    "collapsed": false
   }
  },
  {
   "cell_type": "code",
   "execution_count": null,
   "outputs": [],
   "source": [
    "# Get log to make patterns or trends more apparent\n",
    "def get_log(dataframe, column_name):\n",
    "    \"\"\"\n",
    "    Find log by dataframe and column name\n",
    "    :param dataframe:\n",
    "    :param column_name:\n",
    "    :return: log\n",
    "    \"\"\"\n",
    "    return np.log(dataframe[column_name])"
   ],
   "metadata": {
    "collapsed": false
   }
  },
  {
   "cell_type": "code",
   "execution_count": null,
   "outputs": [],
   "source": [
    "ts_log_all = get_log(transaction_all_data, 'city_pop')\n",
    "ts_log_range = get_log(transaction_range_data, 'city_pop')\n",
    "ts_log_year = get_log(transaction_year_data, 'city_pop')"
   ],
   "metadata": {
    "collapsed": false
   }
  },
  {
   "cell_type": "code",
   "execution_count": null,
   "outputs": [],
   "source": [
    "plt.plot(ts_log_all)"
   ],
   "metadata": {
    "collapsed": false
   }
  },
  {
   "cell_type": "code",
   "execution_count": null,
   "outputs": [],
   "source": [
    "plt.plot(ts_log_range)"
   ],
   "metadata": {
    "collapsed": false
   }
  },
  {
   "cell_type": "code",
   "execution_count": null,
   "outputs": [],
   "source": [
    "plt.plot(ts_log_year)"
   ],
   "metadata": {
    "collapsed": false
   }
  },
  {
   "cell_type": "code",
   "execution_count": null,
   "outputs": [],
   "source": [
    "decompose_all = seasonal_decompose(transaction_all_data['city_pop'], model='additive', period=12)\n",
    "decompose_all.plot()\n",
    "plt.title(\"Decompose of Transactions to City Population\")\n",
    "plt.show()"
   ],
   "metadata": {
    "collapsed": false
   }
  },
  {
   "cell_type": "code",
   "execution_count": null,
   "outputs": [],
   "source": [
    "decompose_range = seasonal_decompose(transaction_range_data['city_pop'], model='additive', period=12)\n",
    "decompose_range.plot()\n",
    "plt.title(f\"Decompose of Transactions to City Population Between {date_range_from} to {date_range_to}\")\n",
    "plt.show()"
   ],
   "metadata": {
    "collapsed": false
   }
  },
  {
   "cell_type": "code",
   "execution_count": null,
   "outputs": [],
   "source": [
    "decompose_year = seasonal_decompose(transaction_year_data['city_pop'], model='additive', period=12)\n",
    "decompose_year.plot()\n",
    "plt.title(f\"Decompose of Transactions to City Population in Year {select_year}\")\n",
    "plt.show()"
   ],
   "metadata": {
    "collapsed": false
   }
  },
  {
   "cell_type": "markdown",
   "source": [
    "#### Conclusion:\n",
    "There is very little trend seen in any of the data."
   ],
   "metadata": {
    "collapsed": false
   }
  },
  {
   "cell_type": "markdown",
   "source": [
    "### Forecasting"
   ],
   "metadata": {
    "collapsed": false
   }
  },
  {
   "cell_type": "code",
   "execution_count": null,
   "outputs": [],
   "source": [
    "# Split into train and test data\n",
    "train = transaction_all_data['2019-06-01':'2019-12-01'].copy()\n",
    "train['train'] = train['city_pop']\n",
    "train = train[['train']]\n",
    "\n",
    "test = transaction_all_data['2019-12-01':'2020-06-01'].copy()\n",
    "test['train'] = test['city_pop']\n",
    "test = test[['train']]"
   ],
   "metadata": {
    "collapsed": false
   }
  },
  {
   "cell_type": "code",
   "execution_count": null,
   "outputs": [],
   "source": [
    "train.head()"
   ],
   "metadata": {
    "collapsed": false
   }
  },
  {
   "cell_type": "code",
   "execution_count": null,
   "outputs": [],
   "source": [
    "test.head()"
   ],
   "metadata": {
    "collapsed": false
   }
  },
  {
   "cell_type": "code",
   "execution_count": null,
   "outputs": [],
   "source": [
    "# Plot the training and test data prediction\n",
    "plt.plot(train, color='black')\n",
    "plt.plot(test, color='red')\n",
    "plt.title('Train/Test Split for Data')\n",
    "plt.xlabel('City Population')\n",
    "plt.ylabel('Date')\n",
    "sns.set()\n",
    "plt.show()"
   ],
   "metadata": {
    "collapsed": false
   }
  },
  {
   "cell_type": "code",
   "execution_count": null,
   "outputs": [],
   "source": [
    "# Construct ARIMA model\n",
    "model = auto_arima(train, trace=True, error_action='ignore', suppress_warnings=True)\n",
    "model.fit(train)\n",
    "forecast = model.predict(n_periods=len(test))\n",
    "forecast = pd.DataFrame(forecast, index=test.index, columns=['Prediction'])"
   ],
   "metadata": {
    "collapsed": false
   }
  },
  {
   "cell_type": "code",
   "execution_count": null,
   "outputs": [],
   "source": [
    "# Display model\n",
    "plt.plot(train, label='Train')\n",
    "plt.plot(test, label='Test')\n",
    "plt.plot(forecast, label='Prediction')\n",
    "plt.title('#City Population Prediction')\n",
    "plt.xlabel('Date')\n",
    "plt.ylabel('Actual #City Population')\n",
    "plt.legend(loc='upper left', fontsize=8)\n",
    "plt.show()"
   ],
   "metadata": {
    "collapsed": false
   }
  },
  {
   "cell_type": "code",
   "execution_count": null,
   "outputs": [],
   "source": [
    "# Calculate root mean squared error\n",
    "test = test.dropna()\n",
    "forecast = forecast.dropna()\n",
    "print(\"Length of test:\", len(test))\n",
    "print(\"Length of forecast:\", len(forecast))"
   ],
   "metadata": {
    "collapsed": false
   }
  },
  {
   "cell_type": "code",
   "execution_count": null,
   "outputs": [],
   "source": [
    "# rmse = sqrt(mean_squared_error(test, forecast))\n",
    "# print(\"RMSE: \", rmse)"
   ],
   "metadata": {
    "collapsed": false
   }
  },
  {
   "cell_type": "markdown",
   "id": "4a74cd85",
   "metadata": {},
   "source": [
    "## Discussion: Visualisation: Results and Data\n",
    "Time series has not been useful to identify patterns regarding fraud cases to city population. The forecast length of 0 indicates that model did not generate any meaningful predictions so mean_squared_error test was not required."
   ]
  }
 ],
 "metadata": {
  "kernelspec": {
   "display_name": "Python 3 (ipykernel)",
   "language": "python",
   "name": "python3"
  },
  "language_info": {
   "codemirror_mode": {
    "name": "ipython",
    "version": 3
   },
   "file_extension": ".py",
   "mimetype": "text/x-python",
   "name": "python",
   "nbconvert_exporter": "python",
   "pygments_lexer": "ipython3",
   "version": "3.9.16"
  }
 },
 "nbformat": 4,
 "nbformat_minor": 5
}
